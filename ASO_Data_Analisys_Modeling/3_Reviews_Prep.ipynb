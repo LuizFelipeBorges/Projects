{
  "nbformat": 4,
  "nbformat_minor": 0,
  "metadata": {
    "colab": {
      "name": "Reviews_Prep.ipynb",
      "provenance": [],
      "toc_visible": true
    },
    "kernelspec": {
      "name": "python3",
      "display_name": "Python 3"
    }
  },
  "cells": [
    {
      "cell_type": "code",
      "metadata": {
        "id": "4NaW-RgZrJLC"
      },
      "source": [
        "import pandas as pd\n",
        "import numpy as np"
      ],
      "execution_count": null,
      "outputs": []
    },
    {
      "cell_type": "markdown",
      "metadata": {
        "id": "bityP_A6DBm0"
      },
      "source": [
        "## Limpeza"
      ]
    },
    {
      "cell_type": "markdown",
      "metadata": {
        "id": "YE6mY-KEPAmw"
      },
      "source": [
        "Importando os reviews, organizando em ordem cronológica e removendo a informação de fuso horário. </br>\n",
        "Remover o fuso é necessário para poder exportar os dados para o excel e usa-lo no Power BI."
      ]
    },
    {
      "cell_type": "code",
      "metadata": {
        "id": "4RZPVH4BrU7R",
        "outputId": "665c503c-f1e0-466f-910a-f6134a8251a2",
        "colab": {
          "base_uri": "https://localhost:8080/",
          "height": 674
        }
      },
      "source": [
        "reviews = pd.read_excel('/content/Reviews_Bank.xlsx', parse_dates= ['Review Last Update Date and Time'])\n",
        "reviews = reviews.sort_values('Review Last Update Date and Time')\n",
        "reviews['Review Last Update Date and Time'] = reviews['Review Last Update Date and Time'].dt.tz_localize(None)\n",
        "reviews.index = range(reviews.shape[0])\n",
        "reviews"
      ],
      "execution_count": null,
      "outputs": [
        {
          "output_type": "execute_result",
          "data": {
            "text/html": [
              "<div>\n",
              "<style scoped>\n",
              "    .dataframe tbody tr th:only-of-type {\n",
              "        vertical-align: middle;\n",
              "    }\n",
              "\n",
              "    .dataframe tbody tr th {\n",
              "        vertical-align: top;\n",
              "    }\n",
              "\n",
              "    .dataframe thead th {\n",
              "        text-align: right;\n",
              "    }\n",
              "</style>\n",
              "<table border=\"1\" class=\"dataframe\">\n",
              "  <thead>\n",
              "    <tr style=\"text-align: right;\">\n",
              "      <th></th>\n",
              "      <th>Package Name</th>\n",
              "      <th>App Version Name</th>\n",
              "      <th>Reviewer Language</th>\n",
              "      <th>Device</th>\n",
              "      <th>Review Last Update Date and Time</th>\n",
              "      <th>Star Rating</th>\n",
              "      <th>Review Title</th>\n",
              "      <th>Review Text</th>\n",
              "      <th>Sentiment</th>\n",
              "    </tr>\n",
              "  </thead>\n",
              "  <tbody>\n",
              "    <tr>\n",
              "      <th>0</th>\n",
              "      <td>B4 Bank</td>\n",
              "      <td>6.10.0</td>\n",
              "      <td>pt</td>\n",
              "      <td>A4_Pro</td>\n",
              "      <td>2019-08-01 00:00:50</td>\n",
              "      <td>3</td>\n",
              "      <td>NaN</td>\n",
              "      <td>Bom, falta disponibilizar cancelamento de agen...</td>\n",
              "      <td>NaN</td>\n",
              "    </tr>\n",
              "    <tr>\n",
              "      <th>1</th>\n",
              "      <td>B4 Bank</td>\n",
              "      <td>6.10.0</td>\n",
              "      <td>pt</td>\n",
              "      <td>starqltechn</td>\n",
              "      <td>2019-08-01 00:13:01</td>\n",
              "      <td>5</td>\n",
              "      <td>NaN</td>\n",
              "      <td>Este aplicativo supre todas as minhas necessid...</td>\n",
              "      <td>NaN</td>\n",
              "    </tr>\n",
              "    <tr>\n",
              "      <th>2</th>\n",
              "      <td>B4 Bank</td>\n",
              "      <td>6.10.0</td>\n",
              "      <td>pt</td>\n",
              "      <td>htc_hiaeul</td>\n",
              "      <td>2019-08-01 00:14:36</td>\n",
              "      <td>5</td>\n",
              "      <td>NaN</td>\n",
              "      <td>Top ??</td>\n",
              "      <td>NaN</td>\n",
              "    </tr>\n",
              "    <tr>\n",
              "      <th>3</th>\n",
              "      <td>B4 Bank</td>\n",
              "      <td>6.10.0</td>\n",
              "      <td>pt</td>\n",
              "      <td>a9y18qlte</td>\n",
              "      <td>2019-08-01 00:29:12</td>\n",
              "      <td>4</td>\n",
              "      <td>NaN</td>\n",
              "      <td>O app é muito bom. Poderia ser mais intuitivo ...</td>\n",
              "      <td>NaN</td>\n",
              "    </tr>\n",
              "    <tr>\n",
              "      <th>4</th>\n",
              "      <td>B4 Bank</td>\n",
              "      <td>6.10.0</td>\n",
              "      <td>pt</td>\n",
              "      <td>m253</td>\n",
              "      <td>2019-08-01 00:31:05</td>\n",
              "      <td>5</td>\n",
              "      <td>NaN</td>\n",
              "      <td>funcional</td>\n",
              "      <td>NaN</td>\n",
              "    </tr>\n",
              "    <tr>\n",
              "      <th>...</th>\n",
              "      <td>...</td>\n",
              "      <td>...</td>\n",
              "      <td>...</td>\n",
              "      <td>...</td>\n",
              "      <td>...</td>\n",
              "      <td>...</td>\n",
              "      <td>...</td>\n",
              "      <td>...</td>\n",
              "      <td>...</td>\n",
              "    </tr>\n",
              "    <tr>\n",
              "      <th>5674</th>\n",
              "      <td>B4 Bank</td>\n",
              "      <td>6.11.1</td>\n",
              "      <td>pt</td>\n",
              "      <td>star2qltechn</td>\n",
              "      <td>2019-10-31 22:29:42</td>\n",
              "      <td>4</td>\n",
              "      <td>NaN</td>\n",
              "      <td>App funciona perfeitamente nas operações que e...</td>\n",
              "      <td>Positive</td>\n",
              "    </tr>\n",
              "    <tr>\n",
              "      <th>5675</th>\n",
              "      <td>B4 Bank</td>\n",
              "      <td>6.11.1</td>\n",
              "      <td>pt</td>\n",
              "      <td>beyond1</td>\n",
              "      <td>2019-10-31 22:56:45</td>\n",
              "      <td>5</td>\n",
              "      <td>NaN</td>\n",
              "      <td>Por enquanto tudo as mil maravilhas!!!!!!</td>\n",
              "      <td>Positive</td>\n",
              "    </tr>\n",
              "    <tr>\n",
              "      <th>5676</th>\n",
              "      <td>B4 Bank</td>\n",
              "      <td>6.11.1</td>\n",
              "      <td>pt</td>\n",
              "      <td>j5lte</td>\n",
              "      <td>2019-10-31 23:14:06</td>\n",
              "      <td>5</td>\n",
              "      <td>NaN</td>\n",
              "      <td>Sempre muito boa!</td>\n",
              "      <td>Positive</td>\n",
              "    </tr>\n",
              "    <tr>\n",
              "      <th>5677</th>\n",
              "      <td>B4 Bank</td>\n",
              "      <td>6.11.1</td>\n",
              "      <td>pt</td>\n",
              "      <td>beyond2</td>\n",
              "      <td>2019-10-31 23:15:09</td>\n",
              "      <td>5</td>\n",
              "      <td>NaN</td>\n",
              "      <td>NaN</td>\n",
              "      <td>Positive</td>\n",
              "    </tr>\n",
              "    <tr>\n",
              "      <th>5678</th>\n",
              "      <td>B4 Bank</td>\n",
              "      <td>6.11.1</td>\n",
              "      <td>pt</td>\n",
              "      <td>j7xelte</td>\n",
              "      <td>2019-10-31 23:58:15</td>\n",
              "      <td>5</td>\n",
              "      <td>NaN</td>\n",
              "      <td>NaN</td>\n",
              "      <td>Positive</td>\n",
              "    </tr>\n",
              "  </tbody>\n",
              "</table>\n",
              "<p>5679 rows × 9 columns</p>\n",
              "</div>"
            ],
            "text/plain": [
              "     Package Name  ... Sentiment\n",
              "0         B4 Bank  ...       NaN\n",
              "1         B4 Bank  ...       NaN\n",
              "2         B4 Bank  ...       NaN\n",
              "3         B4 Bank  ...       NaN\n",
              "4         B4 Bank  ...       NaN\n",
              "...           ...  ...       ...\n",
              "5674      B4 Bank  ...  Positive\n",
              "5675      B4 Bank  ...  Positive\n",
              "5676      B4 Bank  ...  Positive\n",
              "5677      B4 Bank  ...  Positive\n",
              "5678      B4 Bank  ...  Positive\n",
              "\n",
              "[5679 rows x 9 columns]"
            ]
          },
          "metadata": {
            "tags": []
          },
          "execution_count": 4
        }
      ]
    },
    {
      "cell_type": "markdown",
      "metadata": {
        "id": "85MgFJTDDJsd"
      },
      "source": [
        "## Tratamento"
      ]
    },
    {
      "cell_type": "markdown",
      "metadata": {
        "id": "Ly-ibQZMP6gd"
      },
      "source": [
        "Verificando os dados que precisarão ser tratados"
      ]
    },
    {
      "cell_type": "code",
      "metadata": {
        "id": "m3v1Oj-huZLF",
        "outputId": "0abee29b-0d80-41ff-d8dc-2609640a49a0",
        "colab": {
          "base_uri": "https://localhost:8080/",
          "height": 187
        }
      },
      "source": [
        "pd.isnull(reviews).sum()"
      ],
      "execution_count": null,
      "outputs": [
        {
          "output_type": "execute_result",
          "data": {
            "text/plain": [
              "Package Name                           0\n",
              "App Version Name                     256\n",
              "Reviewer Language                      0\n",
              "Device                                 6\n",
              "Review Last Update Date and Time       0\n",
              "Star Rating                            0\n",
              "Review Title                        5678\n",
              "Review Text                         2923\n",
              "Sentiment                           4251\n",
              "dtype: int64"
            ]
          },
          "metadata": {
            "tags": []
          },
          "execution_count": 5
        }
      ]
    },
    {
      "cell_type": "markdown",
      "metadata": {
        "id": "s333JfqoD8BF"
      },
      "source": [
        "  </br>"
      ]
    },
    {
      "cell_type": "markdown",
      "metadata": {
        "id": "ziK0ISHYQMtK"
      },
      "source": [
        "Entendendo o conteúdo das colunas para poder tratar os dados faltantes"
      ]
    },
    {
      "cell_type": "code",
      "metadata": {
        "id": "XjIg0xCPyj_T",
        "outputId": "04f3f480-293b-45ca-f3b2-d306dec804fe",
        "colab": {
          "base_uri": "https://localhost:8080/",
          "height": 34
        }
      },
      "source": [
        "reviews['Sentiment'].unique()"
      ],
      "execution_count": null,
      "outputs": [
        {
          "output_type": "execute_result",
          "data": {
            "text/plain": [
              "array([nan, 'Positive', 'Negative', 'Neutral'], dtype=object)"
            ]
          },
          "metadata": {
            "tags": []
          },
          "execution_count": 6
        }
      ]
    },
    {
      "cell_type": "code",
      "metadata": {
        "id": "9P4ks7MQ0X4J",
        "outputId": "e9760c35-ccac-4dd2-ef93-177e2467d6c5",
        "colab": {
          "base_uri": "https://localhost:8080/",
          "height": 153
        }
      },
      "source": [
        "reviews['App Version Name'].unique()"
      ],
      "execution_count": null,
      "outputs": [
        {
          "output_type": "execute_result",
          "data": {
            "text/plain": [
              "array(['6.10.0', '6.10.1', nan, '6.7.6', '6.4.0', '6.9.8', '6.8.8',\n",
              "       '6.9.9', '6.7.9', '6.8.7', '6.10.2', '5.3.1', '6.9.2', '6.9.3',\n",
              "       '6.10.3', '6.7.8', '6.6.11', '6.5.7', '6.9.5', '6.8.4', '4.1.17',\n",
              "       '6.9.1', '6.10.4', '6.10.5', '6.4.3', '6.8.9', '6.7.4', '6.9.7',\n",
              "       '6.9.6', '4.1.7', '6.10.6', '6.8.5', '6.5.5', '6.6.8', '6.6.3',\n",
              "       '6.7.1', '6.0.7', '6.5.10', '6.1.9', '5.0.7', '6.7.2', '6.1.4',\n",
              "       '6.5.1', '6.9.0', '6.10.7', '4.1.8', '6.2.5', '4.1.14', '6.10.8',\n",
              "       '6.10.9', '6.11.1'], dtype=object)"
            ]
          },
          "metadata": {
            "tags": []
          },
          "execution_count": 7
        }
      ]
    },
    {
      "cell_type": "markdown",
      "metadata": {
        "id": "zXDhAB6MDlUz"
      },
      "source": [
        "  </br>"
      ]
    },
    {
      "cell_type": "markdown",
      "metadata": {
        "id": "xqTWVVD0S8bZ"
      },
      "source": [
        "Ao analisar a coluna Device deduzi que, pela pequena quantidade de dispositivos diferentes, poderia ter alguns que se destacassem na quantia de reviews e isso poderia denotar uma tendência"
      ]
    },
    {
      "cell_type": "code",
      "metadata": {
        "id": "dTcqnAo_Sbvw",
        "outputId": "a6b6fb23-c904-4605-bb48-3285f1400138",
        "colab": {
          "base_uri": "https://localhost:8080/",
          "height": 1000
        }
      },
      "source": [
        "reviews['Device'].unique()"
      ],
      "execution_count": null,
      "outputs": [
        {
          "output_type": "execute_result",
          "data": {
            "text/plain": [
              "array(['A4_Pro', 'starqltechn', 'htc_hiaeul', 'a9y18qlte', 'm253',\n",
              "       'j7xelte', 'j7y17lte', 'dreamlte', 'ali', 'cepheus', 'lavender',\n",
              "       'beyond2', 'dream2lte', 'ASUS_X008', 'jackpot2lte', 'sanders_nt',\n",
              "       'a5y17lte', 'zenlte', 'deen_sprout', 'kane_sprout', 'j8y18lte',\n",
              "       'on5xelte', 'platina', 'beryllium', 'star2qltechn', 'ASUS_X00QD',\n",
              "       'crownqltechn', 'aljeter', 'potter_nt', 'ailsa_ii', 'beckham',\n",
              "       'a7y17lte', 'j5y17lte', 'ocean_t', 'ASUS_X018_4', 'j5lte',\n",
              "       'beyond1', 'j5xnlte', 'cedric', 'a7y18lte', 'montana',\n",
              "       'jackpotlte', 'on7xelte', 'ML-TI0D-MS80X', 'j2y18lte', 'herolte',\n",
              "       'ASUS_Z012D', 'OnePlus5T', 'beyond0', 'mlv5', 'dipper',\n",
              "       'j4corelte', 'j4primelte', 'a70q', 'a5xelte', 'a50', 'albus',\n",
              "       'HWCLT', 'daisy_sprout', 'channel', 'j4lte', 'cactus', 'jflte',\n",
              "       'G3116', 'payton', 'a30', 'vince', 'klte', 'a9xproltesea', 'a10',\n",
              "       'K33b36', 'greatlte', 'alicee', 'F5321', 'sailfish', 'montana_n',\n",
              "       'rhannah', 'ASUS_Z01M_1', 'p1', 'evert_nt', 'Z00A_1', 'nash',\n",
              "       'coreprimeltedtv', 'davinci', 'lucye', 'hero2lte', 'crosshatch',\n",
              "       'mcv3', 'harpia_t', 'on7xreflte', 'm30lte', 'zeroflte', 'addison',\n",
              "       'mido', 'cereus', 'HWANE', 'msf3', 'grandppltedtv', 'ali_n',\n",
              "       'lake_n', 'athene_f', 'tulip', 'HWVOG', 'j7elte', 'a6plte',\n",
              "       'athene_t', 'dreamqlteue', 'G3226', 'ASUS_Z017D_1',\n",
              "       'falcon_umtsds', 'j6lte', 'whyred', 'chagalllte', 'OnePlus7Pro',\n",
              "       'le_s2_ww', 'betalm', 'woods_f', 'starlte', 'osprey_uds', 'river',\n",
              "       'e7lte', 'j6primelte', 'ASUS_X00IDB', 'mm1v', 'o7lte',\n",
              "       'jasmine_sprout', 'nobleltehk', 'jfvelte', 'a20', 'HWRNE', 'mk6p',\n",
              "       'beyond1q', 'HS8976QC', 'k6b', 'lux_uds', 'walleye', 'star2lte',\n",
              "       'harpia', 'NB1', 'zerolte', 'ASUS_X00LD_1', 'a5lte', 'mmh4',\n",
              "       'sagit', 'ASUS_X00HD_1', 'crownqlteue', 'ASUS_X00T_4',\n",
              "       'ASUS_Z01H_1', nan, 'mcv7a', 's5neolte', 'BV9500Pro',\n",
              "       'thea_umtsds', 'a7xelte', 'F8332', 'Z00A', 'grus', 'HWBLA',\n",
              "       'polaris', 'potter', 'osprey_ud2', 'OnePlus3T', 'starqlteue',\n",
              "       'm20lte', 'star2qlteue', 'j2ltedtv', 'panell_dt', 'ASUS_A001D_2',\n",
              "       'mh', 'j7velte', 'HWLON', 'gtanotexllte', 'nitrogen', 'OnePlus5',\n",
              "       'judyln', 'kinzie_uds', 'pettyl', 'ASUS_X008_1', 'noblelte',\n",
              "       'gemini', 'j2corelte', 'ASUS_X00T_2', 'nora_8917', 'rosy',\n",
              "       'OnePlus6', 'B2N_sprout', 'OnePlus6T', 'crownlte', 'gts4lv',\n",
              "       'j3x3g', 'dream2qlteue', 'ASUS_Z01R_1', 'ASUS_X017D_2',\n",
              "       'hero2qltetmo', 'osprey_udstv', 'hero2qlteue', 'ASUS_Z01KD_2',\n",
              "       'j3xlte', 'nicklaus_f', 'rolex', 'tulip_ss', 'ASUS_X00DD',\n",
              "       'HWBND-H', 'A6020l36', 'cv109', 'surnia_udstv', 'mlv7', 'oxygen',\n",
              "       'santoni', 'griffin', 'ASUS_Z00VD', 'ghost', 'grandprimeve3gdtv',\n",
              "       'venice', 'troika_sprout', 'sanders', 'nicklaus_fn', 'NE1',\n",
              "       'p1bdsn', 'athene', 'grandprimeve3g', 'E1M', 'mcv5a', 'surnia_uds',\n",
              "       'ASUS_Z00L_63', 'mlv1', 'evert_n', 'hlte', 'ASUS_X014D_1',\n",
              "       'heroqlteue', 'zippo', 'ASUS_Z00U_1', 'Q19', 'mmh4p-pr', 'HWLYA',\n",
              "       'titan_umtsds', 'a3lte', 'ASUS_Z01KDA', 'merlin', 'trelte',\n",
              "       'equuleus', 'zerofltevzw', 'M6Note', 'a6lte', 'ASUS_X00ID',\n",
              "       'A2016b30', 'K53b36', 'titan_udstv', 'H3123', 'j1xlte', 'K10a40',\n",
              "       'gta2xllte', 'gts3llte', 'a40', 'ASUS_X017D_1', 'g4stylusdsn',\n",
              "       'kmini3g', 'ELSA6', 'victara', 'bbd100', 'peregrine',\n",
              "       'Life_One_X2', 'k3g', 'perry_f', 'j3xnlte', 'sanders_n', 'F8331',\n",
              "       'ASUS_Z01KD_3', 'grandpplte', 'hammerhead', 'BLU', 'F3116', 'GOME',\n",
              "       'ASUS_A007', 'a3xelte', 'tissot_sprout', 'G8141', 'Q7', 'lima',\n",
              "       'ASUS_X00AD_2', 'beyond0q', 'onc', 'j7e3g', 'err_value',\n",
              "       'PDA_sprout', 'coreprimelte', 'me1ds', 'gtexslte', 'sakura',\n",
              "       'SCV39', 'F5C', 'HWSNE', 'CatS60', 'fortuna3gdtv', 'm10lte',\n",
              "       'j1x3g', 'ASUS_X00P_1', 'hero2qltechn', 'gta2slte', 'D5833',\n",
              "       'scorpio', 'beyond2q', 'htc_eyetuhl', 'ASUS_X00R_2', 'taimen',\n",
              "       'E6883', 'BLU_Vivo_5R', 'j2lte', 'd2s', 'dream2qltesq', 'jason',\n",
              "       'Ulefone_Armor_5', 'chiron', 'C6603', 'natrium', 'C_NOTE_2',\n",
              "       'mmh4p', 'dreamqltesq', 'iPhone', 'clark_ds', 'a5ulte',\n",
              "       'htc_pmeuhl', 'Q17', 'H8216', 'd1', 'lithium', 'F5121', 'F5122',\n",
              "       'panell_d', 'ASUS_X00LD_3', 'P855A01', 'heroqltevzw',\n",
              "       'laurel_sprout', 'j7duolte', 'F3213', 'pyxis', 'parker', 'perseus',\n",
              "       'BV9500', 'HWALP', 'tbltetmo', 'HWJSN-H', 'htc_ocmdugl',\n",
              "       'c7ltechn', 'G3312', 'HWELE', 'F3216', 'ocean', 'j2coreplteatt',\n",
              "       'dreamlteks', 'MS60F', 'raphael', 'BLU_Pure_XR', 'marlin',\n",
              "       'gts210lte', 'gtaxllte', 'lt033g', 'HWMAR', 'greatqlteue',\n",
              "       'osprey_umts', 'ysl', 'a7lte', 'DRG_sprout', 'r1q',\n",
              "       'Life_One_X2_Mini', 'HWEVA', 'c9ltechn', 'coral'], dtype=object)"
            ]
          },
          "metadata": {
            "tags": []
          },
          "execution_count": 8
        }
      ]
    },
    {
      "cell_type": "markdown",
      "metadata": {
        "id": "Aa3QrRVjEKmm"
      },
      "source": [
        "  </br>"
      ]
    },
    {
      "cell_type": "markdown",
      "metadata": {
        "id": "UsvVbHHJT41j"
      },
      "source": [
        "Indo um pouco mais a fundo na coluna Devices, foi possível perceber que: </br>\n",
        "*   O Device com a maior concentração representa 6,5% (230) de todos os Reviews (5679).\n",
        "*   20% dos Devices(73) representam uma concentração de 84% dos Reviews.\n",
        "\n",
        "</br>\n",
        "\n",
        "Concluo que não existe concentração o bastante para fazer uma análise mais a fundo em um Device específico."
      ]
    },
    {
      "cell_type": "code",
      "metadata": {
        "id": "R522lsE4NhiD",
        "outputId": "a33d36cc-d26b-4b1f-ac1c-233eb4854abc",
        "colab": {
          "base_uri": "https://localhost:8080/",
          "height": 221
        }
      },
      "source": [
        "reviews['Device'].value_counts()"
      ],
      "execution_count": null,
      "outputs": [
        {
          "output_type": "execute_result",
          "data": {
            "text/plain": [
              "starqltechn     230\n",
              "dreamlte        215\n",
              "on7xelte        210\n",
              "star2qltechn    193\n",
              "on5xelte        168\n",
              "               ... \n",
              "ASUS_X00R_2       1\n",
              "H3123             1\n",
              "D5833             1\n",
              "hero2qltetmo      1\n",
              "panell_d          1\n",
              "Name: Device, Length: 367, dtype: int64"
            ]
          },
          "metadata": {
            "tags": []
          },
          "execution_count": 9
        }
      ]
    },
    {
      "cell_type": "code",
      "metadata": {
        "id": "mfzYtp05VqeE",
        "outputId": "e02fc181-daf1-4c8e-9bca-5192f08097a2",
        "colab": {
          "base_uri": "https://localhost:8080/",
          "height": 34
        }
      },
      "source": [
        "reviews['Device'].value_counts()[:74].sum()"
      ],
      "execution_count": null,
      "outputs": [
        {
          "output_type": "execute_result",
          "data": {
            "text/plain": [
              "4752"
            ]
          },
          "metadata": {
            "tags": []
          },
          "execution_count": 10
        }
      ]
    },
    {
      "cell_type": "markdown",
      "metadata": {
        "id": "776a8NBXEgMl"
      },
      "source": [
        "  </br>"
      ]
    },
    {
      "cell_type": "markdown",
      "metadata": {
        "id": "aD5gYkRuQwFs"
      },
      "source": [
        "Subistituindo os valores faltantes, seguindo o padrão por coluna:</br> </br>\n",
        "Device -> Unknown </br>\n",
        "Review Title/Text -> Blank</br>\n",
        "Sentiment -> Emotionless</br>\n",
        "App Version Name -> 0.0.0</br>\n",
        "</br>\n",
        "E criando uma coluna somente com a data do review.</br></br>"
      ]
    },
    {
      "cell_type": "code",
      "metadata": {
        "id": "YylUwM5QxJIM"
      },
      "source": [
        "reviews['Device'] = reviews['Device'].fillna('Unknown')\n",
        "reviews['Review Title'] = reviews['Review Title'].fillna('Blank')\n",
        "reviews['Review Text'] = reviews['Review Text'].fillna('Blank')\n",
        "reviews['Sentiment'] = reviews['Sentiment'].fillna('Emotionless')\n",
        "reviews['App Version Name'] = reviews['App Version Name'].fillna('0.0.0')\n",
        "reviews['Review Last Update Date'] = reviews['Review Last Update Date and Time'].dt.date"
      ],
      "execution_count": null,
      "outputs": []
    },
    {
      "cell_type": "code",
      "metadata": {
        "id": "zGXlN2_4zys_",
        "outputId": "45eae179-d50f-431b-b227-6ba74f3482e0",
        "colab": {
          "base_uri": "https://localhost:8080/",
          "height": 204
        }
      },
      "source": [
        "pd.isnull(reviews).sum()"
      ],
      "execution_count": null,
      "outputs": [
        {
          "output_type": "execute_result",
          "data": {
            "text/plain": [
              "Package Name                        0\n",
              "App Version Name                    0\n",
              "Reviewer Language                   0\n",
              "Device                              0\n",
              "Review Last Update Date and Time    0\n",
              "Star Rating                         0\n",
              "Review Title                        0\n",
              "Review Text                         0\n",
              "Sentiment                           0\n",
              "Review Last Update Date             0\n",
              "dtype: int64"
            ]
          },
          "metadata": {
            "tags": []
          },
          "execution_count": 12
        }
      ]
    },
    {
      "cell_type": "code",
      "metadata": {
        "id": "2JhJCQh40IcY",
        "outputId": "99b94ca1-13d8-411c-e120-acb091cd2afd",
        "colab": {
          "base_uri": "https://localhost:8080/",
          "height": 725
        }
      },
      "source": [
        "reviews"
      ],
      "execution_count": null,
      "outputs": [
        {
          "output_type": "execute_result",
          "data": {
            "text/html": [
              "<div>\n",
              "<style scoped>\n",
              "    .dataframe tbody tr th:only-of-type {\n",
              "        vertical-align: middle;\n",
              "    }\n",
              "\n",
              "    .dataframe tbody tr th {\n",
              "        vertical-align: top;\n",
              "    }\n",
              "\n",
              "    .dataframe thead th {\n",
              "        text-align: right;\n",
              "    }\n",
              "</style>\n",
              "<table border=\"1\" class=\"dataframe\">\n",
              "  <thead>\n",
              "    <tr style=\"text-align: right;\">\n",
              "      <th></th>\n",
              "      <th>Package Name</th>\n",
              "      <th>App Version Name</th>\n",
              "      <th>Reviewer Language</th>\n",
              "      <th>Device</th>\n",
              "      <th>Review Last Update Date and Time</th>\n",
              "      <th>Star Rating</th>\n",
              "      <th>Review Title</th>\n",
              "      <th>Review Text</th>\n",
              "      <th>Sentiment</th>\n",
              "      <th>Review Last Update Date</th>\n",
              "    </tr>\n",
              "  </thead>\n",
              "  <tbody>\n",
              "    <tr>\n",
              "      <th>0</th>\n",
              "      <td>B4 Bank</td>\n",
              "      <td>6.10.0</td>\n",
              "      <td>pt</td>\n",
              "      <td>A4_Pro</td>\n",
              "      <td>2019-08-01 00:00:50</td>\n",
              "      <td>3</td>\n",
              "      <td>Blank</td>\n",
              "      <td>Bom, falta disponibilizar cancelamento de agen...</td>\n",
              "      <td>Emotionless</td>\n",
              "      <td>2019-08-01</td>\n",
              "    </tr>\n",
              "    <tr>\n",
              "      <th>1</th>\n",
              "      <td>B4 Bank</td>\n",
              "      <td>6.10.0</td>\n",
              "      <td>pt</td>\n",
              "      <td>starqltechn</td>\n",
              "      <td>2019-08-01 00:13:01</td>\n",
              "      <td>5</td>\n",
              "      <td>Blank</td>\n",
              "      <td>Este aplicativo supre todas as minhas necessid...</td>\n",
              "      <td>Emotionless</td>\n",
              "      <td>2019-08-01</td>\n",
              "    </tr>\n",
              "    <tr>\n",
              "      <th>2</th>\n",
              "      <td>B4 Bank</td>\n",
              "      <td>6.10.0</td>\n",
              "      <td>pt</td>\n",
              "      <td>htc_hiaeul</td>\n",
              "      <td>2019-08-01 00:14:36</td>\n",
              "      <td>5</td>\n",
              "      <td>Blank</td>\n",
              "      <td>Top ??</td>\n",
              "      <td>Emotionless</td>\n",
              "      <td>2019-08-01</td>\n",
              "    </tr>\n",
              "    <tr>\n",
              "      <th>3</th>\n",
              "      <td>B4 Bank</td>\n",
              "      <td>6.10.0</td>\n",
              "      <td>pt</td>\n",
              "      <td>a9y18qlte</td>\n",
              "      <td>2019-08-01 00:29:12</td>\n",
              "      <td>4</td>\n",
              "      <td>Blank</td>\n",
              "      <td>O app é muito bom. Poderia ser mais intuitivo ...</td>\n",
              "      <td>Emotionless</td>\n",
              "      <td>2019-08-01</td>\n",
              "    </tr>\n",
              "    <tr>\n",
              "      <th>4</th>\n",
              "      <td>B4 Bank</td>\n",
              "      <td>6.10.0</td>\n",
              "      <td>pt</td>\n",
              "      <td>m253</td>\n",
              "      <td>2019-08-01 00:31:05</td>\n",
              "      <td>5</td>\n",
              "      <td>Blank</td>\n",
              "      <td>funcional</td>\n",
              "      <td>Emotionless</td>\n",
              "      <td>2019-08-01</td>\n",
              "    </tr>\n",
              "    <tr>\n",
              "      <th>...</th>\n",
              "      <td>...</td>\n",
              "      <td>...</td>\n",
              "      <td>...</td>\n",
              "      <td>...</td>\n",
              "      <td>...</td>\n",
              "      <td>...</td>\n",
              "      <td>...</td>\n",
              "      <td>...</td>\n",
              "      <td>...</td>\n",
              "      <td>...</td>\n",
              "    </tr>\n",
              "    <tr>\n",
              "      <th>5674</th>\n",
              "      <td>B4 Bank</td>\n",
              "      <td>6.11.1</td>\n",
              "      <td>pt</td>\n",
              "      <td>star2qltechn</td>\n",
              "      <td>2019-10-31 22:29:42</td>\n",
              "      <td>4</td>\n",
              "      <td>Blank</td>\n",
              "      <td>App funciona perfeitamente nas operações que e...</td>\n",
              "      <td>Positive</td>\n",
              "      <td>2019-10-31</td>\n",
              "    </tr>\n",
              "    <tr>\n",
              "      <th>5675</th>\n",
              "      <td>B4 Bank</td>\n",
              "      <td>6.11.1</td>\n",
              "      <td>pt</td>\n",
              "      <td>beyond1</td>\n",
              "      <td>2019-10-31 22:56:45</td>\n",
              "      <td>5</td>\n",
              "      <td>Blank</td>\n",
              "      <td>Por enquanto tudo as mil maravilhas!!!!!!</td>\n",
              "      <td>Positive</td>\n",
              "      <td>2019-10-31</td>\n",
              "    </tr>\n",
              "    <tr>\n",
              "      <th>5676</th>\n",
              "      <td>B4 Bank</td>\n",
              "      <td>6.11.1</td>\n",
              "      <td>pt</td>\n",
              "      <td>j5lte</td>\n",
              "      <td>2019-10-31 23:14:06</td>\n",
              "      <td>5</td>\n",
              "      <td>Blank</td>\n",
              "      <td>Sempre muito boa!</td>\n",
              "      <td>Positive</td>\n",
              "      <td>2019-10-31</td>\n",
              "    </tr>\n",
              "    <tr>\n",
              "      <th>5677</th>\n",
              "      <td>B4 Bank</td>\n",
              "      <td>6.11.1</td>\n",
              "      <td>pt</td>\n",
              "      <td>beyond2</td>\n",
              "      <td>2019-10-31 23:15:09</td>\n",
              "      <td>5</td>\n",
              "      <td>Blank</td>\n",
              "      <td>Blank</td>\n",
              "      <td>Positive</td>\n",
              "      <td>2019-10-31</td>\n",
              "    </tr>\n",
              "    <tr>\n",
              "      <th>5678</th>\n",
              "      <td>B4 Bank</td>\n",
              "      <td>6.11.1</td>\n",
              "      <td>pt</td>\n",
              "      <td>j7xelte</td>\n",
              "      <td>2019-10-31 23:58:15</td>\n",
              "      <td>5</td>\n",
              "      <td>Blank</td>\n",
              "      <td>Blank</td>\n",
              "      <td>Positive</td>\n",
              "      <td>2019-10-31</td>\n",
              "    </tr>\n",
              "  </tbody>\n",
              "</table>\n",
              "<p>5679 rows × 10 columns</p>\n",
              "</div>"
            ],
            "text/plain": [
              "     Package Name App Version Name  ...    Sentiment Review Last Update Date\n",
              "0         B4 Bank           6.10.0  ...  Emotionless              2019-08-01\n",
              "1         B4 Bank           6.10.0  ...  Emotionless              2019-08-01\n",
              "2         B4 Bank           6.10.0  ...  Emotionless              2019-08-01\n",
              "3         B4 Bank           6.10.0  ...  Emotionless              2019-08-01\n",
              "4         B4 Bank           6.10.0  ...  Emotionless              2019-08-01\n",
              "...           ...              ...  ...          ...                     ...\n",
              "5674      B4 Bank           6.11.1  ...     Positive              2019-10-31\n",
              "5675      B4 Bank           6.11.1  ...     Positive              2019-10-31\n",
              "5676      B4 Bank           6.11.1  ...     Positive              2019-10-31\n",
              "5677      B4 Bank           6.11.1  ...     Positive              2019-10-31\n",
              "5678      B4 Bank           6.11.1  ...     Positive              2019-10-31\n",
              "\n",
              "[5679 rows x 10 columns]"
            ]
          },
          "metadata": {
            "tags": []
          },
          "execution_count": 13
        }
      ]
    },
    {
      "cell_type": "markdown",
      "metadata": {
        "id": "Z1LzwYg4EriB"
      },
      "source": [
        "## Análise Primária\n",
        "Algumas análises mais simples para conhecer o dataset. </br>"
      ]
    },
    {
      "cell_type": "markdown",
      "metadata": {
        "id": "D6Q_NRaYKq8H"
      },
      "source": [
        "### Reviewer Language\n",
        "Ao ver a variedade de línguas, decidi ir mais a fundo"
      ]
    },
    {
      "cell_type": "code",
      "metadata": {
        "id": "WYMaqtBk1o__",
        "outputId": "c52310c8-8b8b-4217-aab0-9647d1b4a253",
        "colab": {
          "base_uri": "https://localhost:8080/",
          "height": 51
        }
      },
      "source": [
        "reviews['Reviewer Language'].unique()"
      ],
      "execution_count": null,
      "outputs": [
        {
          "output_type": "execute_result",
          "data": {
            "text/plain": [
              "array(['pt', 'en', 'fr', 'de', 'es', 'zh-Hans', 'it', 'nl', 'cs'],\n",
              "      dtype=object)"
            ]
          },
          "metadata": {
            "tags": []
          },
          "execution_count": 14
        }
      ]
    },
    {
      "cell_type": "code",
      "metadata": {
        "id": "T8fJqbpD2MQm",
        "outputId": "ba598887-5cea-4b89-b05b-ce37a15f00e1",
        "colab": {
          "base_uri": "https://localhost:8080/",
          "height": 187
        }
      },
      "source": [
        "reviews['Reviewer Language'].value_counts()"
      ],
      "execution_count": null,
      "outputs": [
        {
          "output_type": "execute_result",
          "data": {
            "text/plain": [
              "pt         5461\n",
              "en          188\n",
              "es           15\n",
              "de            6\n",
              "fr            5\n",
              "zh-Hans       1\n",
              "cs            1\n",
              "it            1\n",
              "nl            1\n",
              "Name: Reviewer Language, dtype: int64"
            ]
          },
          "metadata": {
            "tags": []
          },
          "execution_count": 15
        }
      ]
    },
    {
      "cell_type": "markdown",
      "metadata": {
        "id": "OetkVVn6H1TS"
      },
      "source": [
        " </br>"
      ]
    },
    {
      "cell_type": "markdown",
      "metadata": {
        "id": "MIX3cEcCH4s1"
      },
      "source": [
        "Olhando os Reviews de cada língua, com excessão do *en*, os textos são escritos em português mesmo que essa não seja a língua informada.</br>\n",
        "No caso do *en*, olhando uma amostra de 10 Reviews(entre os 72 que escreveram algum texto) 20% foram escritos em inglês e o restante em *pt*."
      ]
    },
    {
      "cell_type": "code",
      "metadata": {
        "id": "Mj6koTokFeXh",
        "outputId": "f677680a-d82d-44ed-f708-14c615b1bb26",
        "colab": {
          "base_uri": "https://localhost:8080/",
          "height": 136
        }
      },
      "source": [
        "reviews[reviews['Reviewer Language'] == 'de']['Review Text']"
      ],
      "execution_count": null,
      "outputs": [
        {
          "output_type": "execute_result",
          "data": {
            "text/plain": [
              "125                                              Blank\n",
              "1588                                             Blank\n",
              "1737    Applicativo nunca falou em muitos anos de uso!\n",
              "1917                                             Blank\n",
              "2717                                             Blank\n",
              "5206                       ok em geral mas muito lento\n",
              "Name: Review Text, dtype: object"
            ]
          },
          "metadata": {
            "tags": []
          },
          "execution_count": 16
        }
      ]
    },
    {
      "cell_type": "code",
      "metadata": {
        "id": "k8-a0unzF61h",
        "outputId": "54fd6634-3e94-4802-d337-f3395fb063a3",
        "colab": {
          "base_uri": "https://localhost:8080/",
          "height": 119
        }
      },
      "source": [
        "reviews[reviews['Reviewer Language'] == 'fr']['Review Text']"
      ],
      "execution_count": null,
      "outputs": [
        {
          "output_type": "execute_result",
          "data": {
            "text/plain": [
              "82                                    app super eficiente\n",
              "1706    Horrivel. Tentando acessar minha conta em viag...\n",
              "3764                                                Blank\n",
              "4322    O aplicativo deveria possibilitar ver os extra...\n",
              "5204                                                Blank\n",
              "Name: Review Text, dtype: object"
            ]
          },
          "metadata": {
            "tags": []
          },
          "execution_count": 17
        }
      ]
    },
    {
      "cell_type": "code",
      "metadata": {
        "id": "EvjGWjBIF-Zo",
        "outputId": "6d3cea3b-98fc-4ec7-a804-2e6162e5ec6e",
        "colab": {
          "base_uri": "https://localhost:8080/",
          "height": 221
        }
      },
      "source": [
        "reviews.loc[(reviews['Reviewer Language'] == 'en') & (reviews['Review Text'] != 'Blank')]['Review Text']"
      ],
      "execution_count": null,
      "outputs": [
        {
          "output_type": "execute_result",
          "data": {
            "text/plain": [
              "32      Instável com token, esta cada vez pior! instav...\n",
              "65                                            amazing app\n",
              "96      Muito lento. Sujeito a flutuações inaceitáveis...\n",
              "156     It has improved, it became less spotty and mor...\n",
              "204     Bom aplicativo, mas não funciona a funçao de a...\n",
              "                              ...                        \n",
              "5519                                The bank account app!\n",
              "5523    Aplicativo ainda é bem devagar... Precisa atua...\n",
              "5537    Tudo ok. Programa de pontos acumulados do cart...\n",
              "5623                                         Praticidade!\n",
              "5658    I am able to perform remotely all bank operati...\n",
              "Name: Review Text, Length: 72, dtype: object"
            ]
          },
          "metadata": {
            "tags": []
          },
          "execution_count": 18
        }
      ]
    },
    {
      "cell_type": "markdown",
      "metadata": {
        "id": "tmqSQlmIN9rt"
      },
      "source": [
        "### Star Rating\n",
        "O App é muito bem ranqueado, somente a nota 5 representa 70% dos Reviews, combinando as notas 4 e 5 a soma alcança 86% do total.</br>"
      ]
    },
    {
      "cell_type": "code",
      "metadata": {
        "id": "ZnfUMolR9gac",
        "outputId": "a3f933d7-21d9-4633-ff48-c2a4a4f1033a",
        "colab": {
          "base_uri": "https://localhost:8080/",
          "height": 119
        }
      },
      "source": [
        "reviews['Star Rating'].value_counts()"
      ],
      "execution_count": null,
      "outputs": [
        {
          "output_type": "execute_result",
          "data": {
            "text/plain": [
              "5    3966\n",
              "4     917\n",
              "1     372\n",
              "3     261\n",
              "2     163\n",
              "Name: Star Rating, dtype: int64"
            ]
          },
          "metadata": {
            "tags": []
          },
          "execution_count": 19
        }
      ]
    },
    {
      "cell_type": "code",
      "metadata": {
        "id": "oIf667sCg13H",
        "outputId": "a76e9a99-32a4-42ea-81fa-aca4704d22ad",
        "colab": {
          "base_uri": "https://localhost:8080/",
          "height": 34
        }
      },
      "source": [
        "reviews['Star Rating'].value_counts()[:2].sum()"
      ],
      "execution_count": null,
      "outputs": [
        {
          "output_type": "execute_result",
          "data": {
            "text/plain": [
              "4883"
            ]
          },
          "metadata": {
            "tags": []
          },
          "execution_count": 20
        }
      ]
    },
    {
      "cell_type": "markdown",
      "metadata": {
        "id": "hvmu4w_nO78J"
      },
      "source": [
        " </br>\n"
      ]
    },
    {
      "cell_type": "markdown",
      "metadata": {
        "id": "kEoNuimMlSxL"
      },
      "source": [
        "Analizando os comentários das notas 4 e 5 é possível destacar: </br>\n",
        "\n",
        "*   44% (2144) dos Reviews tiveram algum comentário\n",
        "\n",
        "\n"
      ]
    },
    {
      "cell_type": "code",
      "metadata": {
        "id": "GrIrqzwt1S1N",
        "outputId": "97642549-04f1-4336-f0d8-1e34d2dcf6d0",
        "colab": {
          "base_uri": "https://localhost:8080/",
          "height": 221
        }
      },
      "source": [
        "best_revs = reviews[reviews['Star Rating'] >= 4]\n",
        "best_revs['Review Text'].value_counts()"
      ],
      "execution_count": null,
      "outputs": [
        {
          "output_type": "execute_result",
          "data": {
            "text/plain": [
              "Blank                         2739\n",
              "Muito bom                       96\n",
              "Excelente                       47\n",
              "Ótimo                           45\n",
              "Boa                             37\n",
              "                              ... \n",
              "Muito prático e rápido.          1\n",
              "prático                          1\n",
              "Muito funcional. Aprovado!       1\n",
              "Obrigada                         1\n",
              "ótimo app !                      1\n",
              "Name: Review Text, Length: 1535, dtype: int64"
            ]
          },
          "metadata": {
            "tags": []
          },
          "execution_count": 21
        }
      ]
    },
    {
      "cell_type": "code",
      "metadata": {
        "id": "mu2cRZjyokNk",
        "outputId": "6fa7d943-976a-4674-ab21-06e52fcbf848",
        "colab": {
          "base_uri": "https://localhost:8080/",
          "height": 34
        }
      },
      "source": [
        "best_revs['Review Text'].value_counts()[1:].sum()"
      ],
      "execution_count": null,
      "outputs": [
        {
          "output_type": "execute_result",
          "data": {
            "text/plain": [
              "2144"
            ]
          },
          "metadata": {
            "tags": []
          },
          "execution_count": 22
        }
      ]
    },
    {
      "cell_type": "code",
      "metadata": {
        "id": "1AL1c3z-jsjz",
        "outputId": "b63aebde-fe11-43e3-fbe4-921f61f12bf2",
        "colab": {
          "base_uri": "https://localhost:8080/",
          "height": 221
        }
      },
      "source": [
        "best_revs['Review Text'].value_counts()[80:91]"
      ],
      "execution_count": null,
      "outputs": [
        {
          "output_type": "execute_result",
          "data": {
            "text/plain": [
              "Excepcional                2\n",
              "muito bom obrigado         2\n",
              "EXCELENTE.                 2\n",
              "Eficiente.                 2\n",
              "Facilita a vida            2\n",
              "Bastante amigável          2\n",
              "Rápido e prático           2\n",
              "Gosto muito                2\n",
              "Funciona perfeitamente.    2\n",
              "Funciona muito bem         2\n",
              "Ótimo atendimento          2\n",
              "Name: Review Text, dtype: int64"
            ]
          },
          "metadata": {
            "tags": []
          },
          "execution_count": 23
        }
      ]
    },
    {
      "cell_type": "markdown",
      "metadata": {
        "id": "Pbuxy8cFPG87"
      },
      "source": [
        " </br>"
      ]
    },
    {
      "cell_type": "markdown",
      "metadata": {
        "id": "klBRiYdjnI7q"
      },
      "source": [
        "Analizando os comentários das notas 1 e 2 é possível destacar: </br>\n",
        "\n",
        "*   Comentários em branco representam 18% (97) do total (535)"
      ]
    },
    {
      "cell_type": "code",
      "metadata": {
        "id": "v7XtiT_M9ai8",
        "outputId": "c6f24cab-c22b-42a8-c04f-ee58cb65b328",
        "colab": {
          "base_uri": "https://localhost:8080/",
          "height": 241
        }
      },
      "source": [
        "low_revs = reviews[reviews['Star Rating'] <= 2]\n",
        "low_revs['Review Text'].value_counts()"
      ],
      "execution_count": null,
      "outputs": [
        {
          "output_type": "execute_result",
          "data": {
            "text/plain": [
              "Blank                                                                                                                                                                                                                                                             97\n",
              "Muito lento                                                                                                                                                                                                                                                        4\n",
              "pessimo                                                                                                                                                                                                                                                            2\n",
              "trava muito                                                                                                                                                                                                                                                        2\n",
              "Muito pesado                                                                                                                                                                                                                                                       2\n",
              "                                                                                                                                                                                                                                                                  ..\n",
              "Não estou consegindo fazer uma transferencia. Mensagem : O aplicativo parou.                                                                                                                                                                                       1\n",
              "Hoje, 07/10/2019 efetuei o pagamento de um boleto bancario de R$ 6.000,00, digitei a senha apenas uma vez, o aplicativo efetuou dois debitos, e eu que me vire para tentar o reembolso com o beneficiario. Aplicativo nao e confiavel. O aplicativo e um LIXO.     1\n",
              "A versão para Android é muito lenta, os comandos demoram para retornar causando a impressão que o toque na tela não funcionou. Em 2019 continua lenta.                                                                                                             1\n",
              "Depois da última versão aplicativo, não gostei das informações agência e conta ficarem gravadas no celular. Entendo que está decisão deveria ser do cliente.                                                                                                       1\n",
              "App muito ruim. Tente fazer a captura de um cheque e não ficar nervoso após a décima tentativa                                                                                                                                                                     1\n",
              "Name: Review Text, Length: 432, dtype: int64"
            ]
          },
          "metadata": {
            "tags": []
          },
          "execution_count": 24
        }
      ]
    },
    {
      "cell_type": "code",
      "metadata": {
        "id": "Fmewxov7nfcK",
        "outputId": "17f09306-dc38-4c21-cf92-614bd3d3f785",
        "colab": {
          "base_uri": "https://localhost:8080/",
          "height": 34
        }
      },
      "source": [
        "low_revs['Review Text'].value_counts().sum()"
      ],
      "execution_count": null,
      "outputs": [
        {
          "output_type": "execute_result",
          "data": {
            "text/plain": [
              "535"
            ]
          },
          "metadata": {
            "tags": []
          },
          "execution_count": 25
        }
      ]
    },
    {
      "cell_type": "code",
      "metadata": {
        "id": "mDgjNDAspp6_",
        "outputId": "a6f0f7b3-4a3e-4477-be72-1aa304f2f575",
        "colab": {
          "base_uri": "https://localhost:8080/",
          "height": 34
        }
      },
      "source": [
        "low_revs['Review Text'].value_counts()[1:].sum()"
      ],
      "execution_count": null,
      "outputs": [
        {
          "output_type": "execute_result",
          "data": {
            "text/plain": [
              "438"
            ]
          },
          "metadata": {
            "tags": []
          },
          "execution_count": 26
        }
      ]
    },
    {
      "cell_type": "code",
      "metadata": {
        "id": "YkM937Ryi5Ps",
        "outputId": "6f1fdb93-168a-4626-a364-270b90df193d",
        "colab": {
          "base_uri": "https://localhost:8080/",
          "height": 241
        }
      },
      "source": [
        "low_revs['Review Text'].value_counts()[20:31]"
      ],
      "execution_count": null,
      "outputs": [
        {
          "output_type": "execute_result",
          "data": {
            "text/plain": [
              "Muito ruim e lento                                                                                                                                                                                                                                                                                                                                                                                                                                                                                                            1\n",
              "Péssimo! Trava em consultas básicas e até no logon. Poucas funcionalidades quando comparado com as opções do site.                                                                                                                                                                                                                                                                                                                                                                                                            1\n",
              "atualização destruiu um App q era tão bom antes da atualização aparecia meu saldo sempre correto agora está confuso pois na maioria das vezes vejo dois saldos completamente diferente é não existe uma explicação para isso muito confuso                                                                                                                                                                                                                                                                                    1\n",
              "O outro era mais simples! Criam caminhos novos ,para chegar no mesmo destino ,lembra o WAZE!                                                                                                                                                                                                                                                                                                                                                                                                                                  1\n",
              "Toda semana ele perde o iToken. Então sou obrigado a ir no cx eletrônico recadastrar ???????? Há conflito entre o iToken PJ e o PF. Toda vez que o Android faz atualização o iToken perde o sincronismo. Aí você tem que desinstalar , reinstalar e no caso do PF tem de se deslocar até um cx eletrônico. É muito ruim ??????????????                                                                                                                                                                                        1\n",
              "Sugestão: - Integrar as funcionalidades do app B4 Bankcard dentro do B4 Bank B4 Banknalité; - Gerenciar as comprar realizadas pelos cartões vinculados a conta (assim, cada gasto do cartão especificado); - Criar gráficos mais coloridos para serem de fácil identificação de categoria; - Mostrar as porcentagens de gastos em casa categoria em relação a todos os gastos do mês; - Criar categorias mais genéricas e subcategorias (por exemplo, categoria - casa, subcategorias - água, luz...); - Criar orçamentos.    1\n",
              "Enche o saco ficar atualizando                                                                                                                                                                                                                                                                                                                                                                                                                                                                                                1\n",
              "Esta deixando a desejar Cade a opção de pagar várias contas ao mesmo tempo.e os juros e taxas tao muito altos                                                                                                                                                                                                                                                                                                                                                                                                                 1\n",
              "Sempre travando quando na seção de cartões de crédito.                                                                                                                                                                                                                                                                                                                                                                                                                                                                        1\n",
              "O aplicativo está muito lento.                                                                                                                                                                                                                                                                                                                                                                                                                                                                                                1\n",
              "O aplicativo deveria ter notificações de transações no cartão                                                                                                                                                                                                                                                                                                                                                                                                                                                                 1\n",
              "Name: Review Text, dtype: int64"
            ]
          },
          "metadata": {
            "tags": []
          },
          "execution_count": 27
        }
      ]
    },
    {
      "cell_type": "markdown",
      "metadata": {
        "id": "IEBav0WBPOFH"
      },
      "source": [
        " </br>"
      ]
    },
    {
      "cell_type": "markdown",
      "metadata": {
        "id": "p8cQgLXAIv_q"
      },
      "source": [
        "### Reviews Text\n",
        "Para poder analisar o texto de maneira mais objetiva, será feita uma contagem de palavras usadas. </br>\n",
        "O processo começará agrupando-os por Star Rating, limpando a pontuação e deixando todas as palavras minusculas."
      ]
    },
    {
      "cell_type": "code",
      "metadata": {
        "id": "Vwr7sfI1QLmc"
      },
      "source": [
        "def text_cleaner(text):\n",
        "  text = text.replace(\".\", \" \")\n",
        "  text = text.replace(\",\", \" \")\n",
        "  text = text.replace(\"?\", \" \")\n",
        "  text = text.replace(\"!\", \" \")\n",
        "  text = text.replace(\"/\", \" \")\n",
        "  text = text.replace(\"=\", \" \")\n",
        "  text = text.replace(\":\", \" \")\n",
        "  text = text.replace(\"-\", \" \")\n",
        "  text = text.replace(\"_\", \" \")\n",
        "  return text"
      ],
      "execution_count": null,
      "outputs": []
    },
    {
      "cell_type": "code",
      "metadata": {
        "id": "v4lH0M7NgsFS"
      },
      "source": [
        "text = reviews.groupby('Star Rating')['Review Text'].apply(' '.join)\n",
        "text = text.map(text_cleaner)"
      ],
      "execution_count": null,
      "outputs": []
    },
    {
      "cell_type": "markdown",
      "metadata": {
        "id": "GIC7A40xiPib"
      },
      "source": [
        " </br>"
      ]
    },
    {
      "cell_type": "markdown",
      "metadata": {
        "id": "1FM8bJKRh9qP"
      },
      "source": [
        "Após todos os comentários estarem agrupados, eles serão separados por nota e será contado quantas vezes cada palavra aparece.\n",
        "Essa informação pode ajudar a filtrar os comentários mais importantes e fornecer ao cliente uma forma de pesquisa de mercado. "
      ]
    },
    {
      "cell_type": "markdown",
      "metadata": {
        "id": "Y6J6LD_XhfoX"
      },
      "source": [
        "Star Rating 1"
      ]
    },
    {
      "cell_type": "code",
      "metadata": {
        "id": "Y6aUmMsGRAae",
        "outputId": "6f8d0472-84f0-4c87-d683-7b6a38bfbf06",
        "colab": {
          "base_uri": "https://localhost:8080/",
          "height": 204
        }
      },
      "source": [
        "text1 = text[1]\n",
        "text1 = text1.lower()\n",
        "\n",
        "word_list1 = text1.split()\n",
        "word_dict1 = {}\n",
        "\n",
        "for word in word_list1: \n",
        "    word_dict1[word] = word_dict1.get(word, 0) + 1\n",
        "\n",
        "word_count1 = pd.DataFrame.from_dict(word_dict1, orient= 'index')\n",
        "word_count1.reset_index(level=0, inplace=True)\n",
        "word_count1.columns = ['word', 'count']\n",
        "word_count1.sort_values('count', ascending= False, inplace= True)\n",
        "word_count1.reset_index(drop= True, inplace= True)\n",
        "word_count1.head()"
      ],
      "execution_count": null,
      "outputs": [
        {
          "output_type": "execute_result",
          "data": {
            "text/html": [
              "<div>\n",
              "<style scoped>\n",
              "    .dataframe tbody tr th:only-of-type {\n",
              "        vertical-align: middle;\n",
              "    }\n",
              "\n",
              "    .dataframe tbody tr th {\n",
              "        vertical-align: top;\n",
              "    }\n",
              "\n",
              "    .dataframe thead th {\n",
              "        text-align: right;\n",
              "    }\n",
              "</style>\n",
              "<table border=\"1\" class=\"dataframe\">\n",
              "  <thead>\n",
              "    <tr style=\"text-align: right;\">\n",
              "      <th></th>\n",
              "      <th>word</th>\n",
              "      <th>count</th>\n",
              "    </tr>\n",
              "  </thead>\n",
              "  <tbody>\n",
              "    <tr>\n",
              "      <th>0</th>\n",
              "      <td>o</td>\n",
              "      <td>270</td>\n",
              "    </tr>\n",
              "    <tr>\n",
              "      <th>1</th>\n",
              "      <td>e</td>\n",
              "      <td>219</td>\n",
              "    </tr>\n",
              "    <tr>\n",
              "      <th>2</th>\n",
              "      <td>de</td>\n",
              "      <td>210</td>\n",
              "    </tr>\n",
              "    <tr>\n",
              "      <th>3</th>\n",
              "      <td>a</td>\n",
              "      <td>181</td>\n",
              "    </tr>\n",
              "    <tr>\n",
              "      <th>4</th>\n",
              "      <td>não</td>\n",
              "      <td>174</td>\n",
              "    </tr>\n",
              "  </tbody>\n",
              "</table>\n",
              "</div>"
            ],
            "text/plain": [
              "  word  count\n",
              "0    o    270\n",
              "1    e    219\n",
              "2   de    210\n",
              "3    a    181\n",
              "4  não    174"
            ]
          },
          "metadata": {
            "tags": []
          },
          "execution_count": 30
        }
      ]
    },
    {
      "cell_type": "code",
      "metadata": {
        "id": "ywvlEFeKjghG",
        "outputId": "0bd5f21d-734e-4595-9bc0-4d2e4a57cc22",
        "colab": {
          "base_uri": "https://localhost:8080/",
          "height": 824
        }
      },
      "source": [
        "word_count1[word_count1['count'] > 35]"
      ],
      "execution_count": null,
      "outputs": [
        {
          "output_type": "execute_result",
          "data": {
            "text/html": [
              "<div>\n",
              "<style scoped>\n",
              "    .dataframe tbody tr th:only-of-type {\n",
              "        vertical-align: middle;\n",
              "    }\n",
              "\n",
              "    .dataframe tbody tr th {\n",
              "        vertical-align: top;\n",
              "    }\n",
              "\n",
              "    .dataframe thead th {\n",
              "        text-align: right;\n",
              "    }\n",
              "</style>\n",
              "<table border=\"1\" class=\"dataframe\">\n",
              "  <thead>\n",
              "    <tr style=\"text-align: right;\">\n",
              "      <th></th>\n",
              "      <th>word</th>\n",
              "      <th>count</th>\n",
              "    </tr>\n",
              "  </thead>\n",
              "  <tbody>\n",
              "    <tr>\n",
              "      <th>0</th>\n",
              "      <td>o</td>\n",
              "      <td>270</td>\n",
              "    </tr>\n",
              "    <tr>\n",
              "      <th>1</th>\n",
              "      <td>e</td>\n",
              "      <td>219</td>\n",
              "    </tr>\n",
              "    <tr>\n",
              "      <th>2</th>\n",
              "      <td>de</td>\n",
              "      <td>210</td>\n",
              "    </tr>\n",
              "    <tr>\n",
              "      <th>3</th>\n",
              "      <td>a</td>\n",
              "      <td>181</td>\n",
              "    </tr>\n",
              "    <tr>\n",
              "      <th>4</th>\n",
              "      <td>não</td>\n",
              "      <td>174</td>\n",
              "    </tr>\n",
              "    <tr>\n",
              "      <th>5</th>\n",
              "      <td>que</td>\n",
              "      <td>146</td>\n",
              "    </tr>\n",
              "    <tr>\n",
              "      <th>6</th>\n",
              "      <td>para</td>\n",
              "      <td>100</td>\n",
              "    </tr>\n",
              "    <tr>\n",
              "      <th>7</th>\n",
              "      <td>app</td>\n",
              "      <td>97</td>\n",
              "    </tr>\n",
              "    <tr>\n",
              "      <th>8</th>\n",
              "      <td>do</td>\n",
              "      <td>94</td>\n",
              "    </tr>\n",
              "    <tr>\n",
              "      <th>9</th>\n",
              "      <td>no</td>\n",
              "      <td>69</td>\n",
              "    </tr>\n",
              "    <tr>\n",
              "      <th>10</th>\n",
              "      <td>blank</td>\n",
              "      <td>68</td>\n",
              "    </tr>\n",
              "    <tr>\n",
              "      <th>11</th>\n",
              "      <td>aplicativo</td>\n",
              "      <td>63</td>\n",
              "    </tr>\n",
              "    <tr>\n",
              "      <th>12</th>\n",
              "      <td>muito</td>\n",
              "      <td>63</td>\n",
              "    </tr>\n",
              "    <tr>\n",
              "      <th>13</th>\n",
              "      <td>um</td>\n",
              "      <td>60</td>\n",
              "    </tr>\n",
              "    <tr>\n",
              "      <th>14</th>\n",
              "      <td>é</td>\n",
              "      <td>58</td>\n",
              "    </tr>\n",
              "    <tr>\n",
              "      <th>15</th>\n",
              "      <td>b4</td>\n",
              "      <td>51</td>\n",
              "    </tr>\n",
              "    <tr>\n",
              "      <th>16</th>\n",
              "      <td>com</td>\n",
              "      <td>48</td>\n",
              "    </tr>\n",
              "    <tr>\n",
              "      <th>17</th>\n",
              "      <td>atualização</td>\n",
              "      <td>43</td>\n",
              "    </tr>\n",
              "    <tr>\n",
              "      <th>18</th>\n",
              "      <td>consigo</td>\n",
              "      <td>42</td>\n",
              "    </tr>\n",
              "    <tr>\n",
              "      <th>19</th>\n",
              "      <td>uma</td>\n",
              "      <td>40</td>\n",
              "    </tr>\n",
              "    <tr>\n",
              "      <th>20</th>\n",
              "      <td>em</td>\n",
              "      <td>39</td>\n",
              "    </tr>\n",
              "    <tr>\n",
              "      <th>21</th>\n",
              "      <td>nao</td>\n",
              "      <td>39</td>\n",
              "    </tr>\n",
              "    <tr>\n",
              "      <th>22</th>\n",
              "      <td>na</td>\n",
              "      <td>38</td>\n",
              "    </tr>\n",
              "    <tr>\n",
              "      <th>23</th>\n",
              "      <td>bank</td>\n",
              "      <td>37</td>\n",
              "    </tr>\n",
              "    <tr>\n",
              "      <th>24</th>\n",
              "      <td>mais</td>\n",
              "      <td>36</td>\n",
              "    </tr>\n",
              "  </tbody>\n",
              "</table>\n",
              "</div>"
            ],
            "text/plain": [
              "           word  count\n",
              "0             o    270\n",
              "1             e    219\n",
              "2            de    210\n",
              "3             a    181\n",
              "4           não    174\n",
              "5           que    146\n",
              "6          para    100\n",
              "7           app     97\n",
              "8            do     94\n",
              "9            no     69\n",
              "10        blank     68\n",
              "11   aplicativo     63\n",
              "12        muito     63\n",
              "13           um     60\n",
              "14            é     58\n",
              "15           b4     51\n",
              "16          com     48\n",
              "17  atualização     43\n",
              "18      consigo     42\n",
              "19          uma     40\n",
              "20           em     39\n",
              "21          nao     39\n",
              "22           na     38\n",
              "23         bank     37\n",
              "24         mais     36"
            ]
          },
          "metadata": {
            "tags": []
          },
          "execution_count": 31
        }
      ]
    },
    {
      "cell_type": "markdown",
      "metadata": {
        "id": "qV7yYMsqiYgg"
      },
      "source": [
        " </br>"
      ]
    },
    {
      "cell_type": "markdown",
      "metadata": {
        "id": "mYa67EyUiYgg"
      },
      "source": [
        "Star Rating 2"
      ]
    },
    {
      "cell_type": "code",
      "metadata": {
        "id": "dmx2NIOqiYgk",
        "outputId": "9e9d4bb8-44b7-41c4-ca90-6c87098a92ea",
        "colab": {
          "base_uri": "https://localhost:8080/",
          "height": 204
        }
      },
      "source": [
        "text2 = text[2]\n",
        "text2 = text2.lower()\n",
        "\n",
        "word_list2 = text2.split()\n",
        "word_dict2 = {}\n",
        "\n",
        "for word in word_list2: \n",
        "    word_dict2[word] = word_dict2.get(word, 0) + 1\n",
        "\n",
        "word_count2 = pd.DataFrame.from_dict(word_dict2, orient= 'index')\n",
        "word_count2.reset_index(level=0, inplace=True)\n",
        "word_count2.columns = ['word', 'count']\n",
        "word_count2.sort_values('count', ascending= False, inplace= True)\n",
        "word_count2.reset_index(drop= True, inplace= True)\n",
        "word_count2.head()"
      ],
      "execution_count": null,
      "outputs": [
        {
          "output_type": "execute_result",
          "data": {
            "text/html": [
              "<div>\n",
              "<style scoped>\n",
              "    .dataframe tbody tr th:only-of-type {\n",
              "        vertical-align: middle;\n",
              "    }\n",
              "\n",
              "    .dataframe tbody tr th {\n",
              "        vertical-align: top;\n",
              "    }\n",
              "\n",
              "    .dataframe thead th {\n",
              "        text-align: right;\n",
              "    }\n",
              "</style>\n",
              "<table border=\"1\" class=\"dataframe\">\n",
              "  <thead>\n",
              "    <tr style=\"text-align: right;\">\n",
              "      <th></th>\n",
              "      <th>word</th>\n",
              "      <th>count</th>\n",
              "    </tr>\n",
              "  </thead>\n",
              "  <tbody>\n",
              "    <tr>\n",
              "      <th>0</th>\n",
              "      <td>o</td>\n",
              "      <td>128</td>\n",
              "    </tr>\n",
              "    <tr>\n",
              "      <th>1</th>\n",
              "      <td>de</td>\n",
              "      <td>121</td>\n",
              "    </tr>\n",
              "    <tr>\n",
              "      <th>2</th>\n",
              "      <td>e</td>\n",
              "      <td>82</td>\n",
              "    </tr>\n",
              "    <tr>\n",
              "      <th>3</th>\n",
              "      <td>a</td>\n",
              "      <td>70</td>\n",
              "    </tr>\n",
              "    <tr>\n",
              "      <th>4</th>\n",
              "      <td>não</td>\n",
              "      <td>65</td>\n",
              "    </tr>\n",
              "  </tbody>\n",
              "</table>\n",
              "</div>"
            ],
            "text/plain": [
              "  word  count\n",
              "0    o    128\n",
              "1   de    121\n",
              "2    e     82\n",
              "3    a     70\n",
              "4  não     65"
            ]
          },
          "metadata": {
            "tags": []
          },
          "execution_count": 32
        }
      ]
    },
    {
      "cell_type": "markdown",
      "metadata": {
        "id": "-seTYgQwi4iG"
      },
      "source": [
        " </br>"
      ]
    },
    {
      "cell_type": "markdown",
      "metadata": {
        "id": "rBOoITTsi4iI"
      },
      "source": [
        "Star Rating 3"
      ]
    },
    {
      "cell_type": "code",
      "metadata": {
        "id": "MpSsSUKLi4iI",
        "outputId": "6f174a01-52d1-42dc-963b-798a24ab1b27",
        "colab": {
          "base_uri": "https://localhost:8080/",
          "height": 204
        }
      },
      "source": [
        "text3 = text[3]\n",
        "text3 = text3.lower()\n",
        "\n",
        "word_list3 = text3.split()\n",
        "word_dict3 = {}\n",
        "\n",
        "for word in word_list3: \n",
        "    word_dict3[word] = word_dict3.get(word, 0) + 1\n",
        "\n",
        "word_count3 = pd.DataFrame.from_dict(word_dict3, orient= 'index')\n",
        "word_count3.reset_index(level=0, inplace=True)\n",
        "word_count3.columns = ['word', 'count']\n",
        "word_count3.sort_values('count', ascending= False, inplace= True)\n",
        "word_count3.reset_index(drop= True, inplace= True)\n",
        "word_count3.head()"
      ],
      "execution_count": null,
      "outputs": [
        {
          "output_type": "execute_result",
          "data": {
            "text/html": [
              "<div>\n",
              "<style scoped>\n",
              "    .dataframe tbody tr th:only-of-type {\n",
              "        vertical-align: middle;\n",
              "    }\n",
              "\n",
              "    .dataframe tbody tr th {\n",
              "        vertical-align: top;\n",
              "    }\n",
              "\n",
              "    .dataframe thead th {\n",
              "        text-align: right;\n",
              "    }\n",
              "</style>\n",
              "<table border=\"1\" class=\"dataframe\">\n",
              "  <thead>\n",
              "    <tr style=\"text-align: right;\">\n",
              "      <th></th>\n",
              "      <th>word</th>\n",
              "      <th>count</th>\n",
              "    </tr>\n",
              "  </thead>\n",
              "  <tbody>\n",
              "    <tr>\n",
              "      <th>0</th>\n",
              "      <td>de</td>\n",
              "      <td>140</td>\n",
              "    </tr>\n",
              "    <tr>\n",
              "      <th>1</th>\n",
              "      <td>o</td>\n",
              "      <td>113</td>\n",
              "    </tr>\n",
              "    <tr>\n",
              "      <th>2</th>\n",
              "      <td>e</td>\n",
              "      <td>94</td>\n",
              "    </tr>\n",
              "    <tr>\n",
              "      <th>3</th>\n",
              "      <td>blank</td>\n",
              "      <td>87</td>\n",
              "    </tr>\n",
              "    <tr>\n",
              "      <th>4</th>\n",
              "      <td>a</td>\n",
              "      <td>79</td>\n",
              "    </tr>\n",
              "  </tbody>\n",
              "</table>\n",
              "</div>"
            ],
            "text/plain": [
              "    word  count\n",
              "0     de    140\n",
              "1      o    113\n",
              "2      e     94\n",
              "3  blank     87\n",
              "4      a     79"
            ]
          },
          "metadata": {
            "tags": []
          },
          "execution_count": 33
        }
      ]
    },
    {
      "cell_type": "markdown",
      "metadata": {
        "id": "JpUUBNCli_cU"
      },
      "source": [
        " </br>"
      ]
    },
    {
      "cell_type": "markdown",
      "metadata": {
        "id": "3qY6SnHei_cV"
      },
      "source": [
        "Star Rating 4"
      ]
    },
    {
      "cell_type": "code",
      "metadata": {
        "id": "VlDUkOu0i_cV",
        "outputId": "53abd593-4252-493d-923d-5587eb346208",
        "colab": {
          "base_uri": "https://localhost:8080/",
          "height": 204
        }
      },
      "source": [
        "text4 = text[4]\n",
        "text4 = text4.lower()\n",
        "\n",
        "word_list4 = text4.split()\n",
        "word_dict4 = {}\n",
        "\n",
        "for word in word_list4: \n",
        "    word_dict4[word] = word_dict4.get(word, 0) + 1\n",
        "\n",
        "word_count4 = pd.DataFrame.from_dict(word_dict4, orient= 'index')\n",
        "word_count4.reset_index(level=0, inplace=True)\n",
        "word_count4.columns = ['word', 'count']\n",
        "word_count4.sort_values('count', ascending= False, inplace= True)\n",
        "word_count4.reset_index(drop= True, inplace= True)\n",
        "word_count4.head()"
      ],
      "execution_count": null,
      "outputs": [
        {
          "output_type": "execute_result",
          "data": {
            "text/html": [
              "<div>\n",
              "<style scoped>\n",
              "    .dataframe tbody tr th:only-of-type {\n",
              "        vertical-align: middle;\n",
              "    }\n",
              "\n",
              "    .dataframe tbody tr th {\n",
              "        vertical-align: top;\n",
              "    }\n",
              "\n",
              "    .dataframe thead th {\n",
              "        text-align: right;\n",
              "    }\n",
              "</style>\n",
              "<table border=\"1\" class=\"dataframe\">\n",
              "  <thead>\n",
              "    <tr style=\"text-align: right;\">\n",
              "      <th></th>\n",
              "      <th>word</th>\n",
              "      <th>count</th>\n",
              "    </tr>\n",
              "  </thead>\n",
              "  <tbody>\n",
              "    <tr>\n",
              "      <th>0</th>\n",
              "      <td>blank</td>\n",
              "      <td>505</td>\n",
              "    </tr>\n",
              "    <tr>\n",
              "      <th>1</th>\n",
              "      <td>de</td>\n",
              "      <td>220</td>\n",
              "    </tr>\n",
              "    <tr>\n",
              "      <th>2</th>\n",
              "      <td>o</td>\n",
              "      <td>162</td>\n",
              "    </tr>\n",
              "    <tr>\n",
              "      <th>3</th>\n",
              "      <td>e</td>\n",
              "      <td>101</td>\n",
              "    </tr>\n",
              "    <tr>\n",
              "      <th>4</th>\n",
              "      <td>a</td>\n",
              "      <td>99</td>\n",
              "    </tr>\n",
              "  </tbody>\n",
              "</table>\n",
              "</div>"
            ],
            "text/plain": [
              "    word  count\n",
              "0  blank    505\n",
              "1     de    220\n",
              "2      o    162\n",
              "3      e    101\n",
              "4      a     99"
            ]
          },
          "metadata": {
            "tags": []
          },
          "execution_count": 34
        }
      ]
    },
    {
      "cell_type": "markdown",
      "metadata": {
        "id": "Dhw1wEFIi_z9"
      },
      "source": [
        " </br>"
      ]
    },
    {
      "cell_type": "markdown",
      "metadata": {
        "id": "te_NPDuGi_z9"
      },
      "source": [
        "Star Rating 5"
      ]
    },
    {
      "cell_type": "code",
      "metadata": {
        "id": "ZYa_lESvi_z9",
        "outputId": "6cc989ad-c942-4edc-bab7-c6cfb771e0c3",
        "colab": {
          "base_uri": "https://localhost:8080/",
          "height": 204
        }
      },
      "source": [
        "text5 = text[5]\n",
        "text5 = text5.lower()\n",
        "\n",
        "word_list5 = text5.split()\n",
        "word_dict5 = {}\n",
        "\n",
        "for word in word_list5: \n",
        "    word_dict5[word] = word_dict5.get(word, 0) + 1\n",
        "\n",
        "word_count5 = pd.DataFrame.from_dict(word_dict5, orient= 'index')\n",
        "word_count5.reset_index(level=0, inplace=True)\n",
        "word_count5.columns = ['word', 'count']\n",
        "word_count5.sort_values('count', ascending= False, inplace= True)\n",
        "word_count5.reset_index(drop= True, inplace= True)\n",
        "word_count5.head()"
      ],
      "execution_count": null,
      "outputs": [
        {
          "output_type": "execute_result",
          "data": {
            "text/html": [
              "<div>\n",
              "<style scoped>\n",
              "    .dataframe tbody tr th:only-of-type {\n",
              "        vertical-align: middle;\n",
              "    }\n",
              "\n",
              "    .dataframe tbody tr th {\n",
              "        vertical-align: top;\n",
              "    }\n",
              "\n",
              "    .dataframe thead th {\n",
              "        text-align: right;\n",
              "    }\n",
              "</style>\n",
              "<table border=\"1\" class=\"dataframe\">\n",
              "  <thead>\n",
              "    <tr style=\"text-align: right;\">\n",
              "      <th></th>\n",
              "      <th>word</th>\n",
              "      <th>count</th>\n",
              "    </tr>\n",
              "  </thead>\n",
              "  <tbody>\n",
              "    <tr>\n",
              "      <th>0</th>\n",
              "      <td>blank</td>\n",
              "      <td>2234</td>\n",
              "    </tr>\n",
              "    <tr>\n",
              "      <th>1</th>\n",
              "      <td>muito</td>\n",
              "      <td>570</td>\n",
              "    </tr>\n",
              "    <tr>\n",
              "      <th>2</th>\n",
              "      <td>e</td>\n",
              "      <td>448</td>\n",
              "    </tr>\n",
              "    <tr>\n",
              "      <th>3</th>\n",
              "      <td>bom</td>\n",
              "      <td>323</td>\n",
              "    </tr>\n",
              "    <tr>\n",
              "      <th>4</th>\n",
              "      <td>de</td>\n",
              "      <td>306</td>\n",
              "    </tr>\n",
              "  </tbody>\n",
              "</table>\n",
              "</div>"
            ],
            "text/plain": [
              "    word  count\n",
              "0  blank   2234\n",
              "1  muito    570\n",
              "2      e    448\n",
              "3    bom    323\n",
              "4     de    306"
            ]
          },
          "metadata": {
            "tags": []
          },
          "execution_count": 35
        }
      ]
    },
    {
      "cell_type": "code",
      "metadata": {
        "id": "9E8GlqG7Znw5",
        "outputId": "f6c47e5c-82d9-48fb-f09c-1cfa53bda927",
        "colab": {
          "base_uri": "https://localhost:8080/",
          "height": 1000
        }
      },
      "source": [
        "word_count5[word_count5['count'] > 50]\n"
      ],
      "execution_count": null,
      "outputs": [
        {
          "output_type": "execute_result",
          "data": {
            "text/html": [
              "<div>\n",
              "<style scoped>\n",
              "    .dataframe tbody tr th:only-of-type {\n",
              "        vertical-align: middle;\n",
              "    }\n",
              "\n",
              "    .dataframe tbody tr th {\n",
              "        vertical-align: top;\n",
              "    }\n",
              "\n",
              "    .dataframe thead th {\n",
              "        text-align: right;\n",
              "    }\n",
              "</style>\n",
              "<table border=\"1\" class=\"dataframe\">\n",
              "  <thead>\n",
              "    <tr style=\"text-align: right;\">\n",
              "      <th></th>\n",
              "      <th>word</th>\n",
              "      <th>count</th>\n",
              "    </tr>\n",
              "  </thead>\n",
              "  <tbody>\n",
              "    <tr>\n",
              "      <th>0</th>\n",
              "      <td>blank</td>\n",
              "      <td>2234</td>\n",
              "    </tr>\n",
              "    <tr>\n",
              "      <th>1</th>\n",
              "      <td>muito</td>\n",
              "      <td>570</td>\n",
              "    </tr>\n",
              "    <tr>\n",
              "      <th>2</th>\n",
              "      <td>e</td>\n",
              "      <td>448</td>\n",
              "    </tr>\n",
              "    <tr>\n",
              "      <th>3</th>\n",
              "      <td>bom</td>\n",
              "      <td>323</td>\n",
              "    </tr>\n",
              "    <tr>\n",
              "      <th>4</th>\n",
              "      <td>de</td>\n",
              "      <td>306</td>\n",
              "    </tr>\n",
              "    <tr>\n",
              "      <th>5</th>\n",
              "      <td>prático</td>\n",
              "      <td>199</td>\n",
              "    </tr>\n",
              "    <tr>\n",
              "      <th>6</th>\n",
              "      <td>o</td>\n",
              "      <td>189</td>\n",
              "    </tr>\n",
              "    <tr>\n",
              "      <th>7</th>\n",
              "      <td>excelente</td>\n",
              "      <td>188</td>\n",
              "    </tr>\n",
              "    <tr>\n",
              "      <th>8</th>\n",
              "      <td>app</td>\n",
              "      <td>181</td>\n",
              "    </tr>\n",
              "    <tr>\n",
              "      <th>9</th>\n",
              "      <td>fácil</td>\n",
              "      <td>175</td>\n",
              "    </tr>\n",
              "    <tr>\n",
              "      <th>10</th>\n",
              "      <td>ótimo</td>\n",
              "      <td>153</td>\n",
              "    </tr>\n",
              "    <tr>\n",
              "      <th>11</th>\n",
              "      <td>aplicativo</td>\n",
              "      <td>129</td>\n",
              "    </tr>\n",
              "    <tr>\n",
              "      <th>12</th>\n",
              "      <td>a</td>\n",
              "      <td>127</td>\n",
              "    </tr>\n",
              "    <tr>\n",
              "      <th>13</th>\n",
              "      <td>que</td>\n",
              "      <td>120</td>\n",
              "    </tr>\n",
              "    <tr>\n",
              "      <th>14</th>\n",
              "      <td>rápido</td>\n",
              "      <td>94</td>\n",
              "    </tr>\n",
              "    <tr>\n",
              "      <th>15</th>\n",
              "      <td>boa</td>\n",
              "      <td>94</td>\n",
              "    </tr>\n",
              "    <tr>\n",
              "      <th>16</th>\n",
              "      <td>do</td>\n",
              "      <td>80</td>\n",
              "    </tr>\n",
              "    <tr>\n",
              "      <th>17</th>\n",
              "      <td>usar</td>\n",
              "      <td>79</td>\n",
              "    </tr>\n",
              "    <tr>\n",
              "      <th>18</th>\n",
              "      <td>é</td>\n",
              "      <td>77</td>\n",
              "    </tr>\n",
              "    <tr>\n",
              "      <th>19</th>\n",
              "      <td>para</td>\n",
              "      <td>70</td>\n",
              "    </tr>\n",
              "    <tr>\n",
              "      <th>20</th>\n",
              "      <td>tudo</td>\n",
              "      <td>62</td>\n",
              "    </tr>\n",
              "    <tr>\n",
              "      <th>21</th>\n",
              "      <td>não</td>\n",
              "      <td>60</td>\n",
              "    </tr>\n",
              "    <tr>\n",
              "      <th>22</th>\n",
              "      <td>bem</td>\n",
              "      <td>59</td>\n",
              "    </tr>\n",
              "    <tr>\n",
              "      <th>23</th>\n",
              "      <td>no</td>\n",
              "      <td>58</td>\n",
              "    </tr>\n",
              "    <tr>\n",
              "      <th>24</th>\n",
              "      <td>melhor</td>\n",
              "      <td>57</td>\n",
              "    </tr>\n",
              "    <tr>\n",
              "      <th>25</th>\n",
              "      <td>sempre</td>\n",
              "      <td>55</td>\n",
              "    </tr>\n",
              "    <tr>\n",
              "      <th>26</th>\n",
              "      <td>banco</td>\n",
              "      <td>54</td>\n",
              "    </tr>\n",
              "    <tr>\n",
              "      <th>27</th>\n",
              "      <td>as</td>\n",
              "      <td>53</td>\n",
              "    </tr>\n",
              "    <tr>\n",
              "      <th>28</th>\n",
              "      <td>b4</td>\n",
              "      <td>53</td>\n",
              "    </tr>\n",
              "    <tr>\n",
              "      <th>29</th>\n",
              "      <td>eficiente</td>\n",
              "      <td>52</td>\n",
              "    </tr>\n",
              "    <tr>\n",
              "      <th>30</th>\n",
              "      <td>bank</td>\n",
              "      <td>52</td>\n",
              "    </tr>\n",
              "    <tr>\n",
              "      <th>31</th>\n",
              "      <td>com</td>\n",
              "      <td>51</td>\n",
              "    </tr>\n",
              "    <tr>\n",
              "      <th>32</th>\n",
              "      <td>mais</td>\n",
              "      <td>51</td>\n",
              "    </tr>\n",
              "  </tbody>\n",
              "</table>\n",
              "</div>"
            ],
            "text/plain": [
              "          word  count\n",
              "0        blank   2234\n",
              "1        muito    570\n",
              "2            e    448\n",
              "3          bom    323\n",
              "4           de    306\n",
              "5      prático    199\n",
              "6            o    189\n",
              "7    excelente    188\n",
              "8          app    181\n",
              "9        fácil    175\n",
              "10       ótimo    153\n",
              "11  aplicativo    129\n",
              "12           a    127\n",
              "13         que    120\n",
              "14      rápido     94\n",
              "15         boa     94\n",
              "16          do     80\n",
              "17        usar     79\n",
              "18           é     77\n",
              "19        para     70\n",
              "20        tudo     62\n",
              "21         não     60\n",
              "22         bem     59\n",
              "23          no     58\n",
              "24      melhor     57\n",
              "25      sempre     55\n",
              "26       banco     54\n",
              "27          as     53\n",
              "28          b4     53\n",
              "29   eficiente     52\n",
              "30        bank     52\n",
              "31         com     51\n",
              "32        mais     51"
            ]
          },
          "metadata": {
            "tags": []
          },
          "execution_count": 36
        }
      ]
    },
    {
      "cell_type": "markdown",
      "metadata": {
        "id": "OOuOzKVyPN58"
      },
      "source": [
        "##Exportação da Base\n",
        "Exportando em CSV para caso seja usado para modelagem e em EXCEL para uso no Power BI"
      ]
    },
    {
      "cell_type": "code",
      "metadata": {
        "id": "s2HRijdblAoy"
      },
      "source": [
        "reviews.to_csv('Cleaned_Reviews_Bank.csv', index= False)\n",
        "reviews.to_excel('Cleaned_Reviews_Bank.xlsx', index= False)"
      ],
      "execution_count": null,
      "outputs": []
    },
    {
      "cell_type": "markdown",
      "metadata": {
        "id": "4zedr0QueWfh"
      },
      "source": [
        "## Proximos passos\n",
        "- Análisar quais são os dispositivos com maior concentração de comentários negativos, caso seja um número expressivo, passar a informação para o cliente. "
      ]
    }
  ]
}