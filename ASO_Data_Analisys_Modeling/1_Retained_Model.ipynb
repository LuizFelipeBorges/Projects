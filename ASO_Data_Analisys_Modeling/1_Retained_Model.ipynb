{
  "nbformat": 4,
  "nbformat_minor": 0,
  "metadata": {
    "colab": {
      "name": "Retained_Model.ipynb",
      "provenance": [],
      "collapsed_sections": [],
      "toc_visible": true
    },
    "kernelspec": {
      "name": "python3",
      "display_name": "Python 3"
    }
  },
  "cells": [
    {
      "cell_type": "markdown",
      "metadata": {
        "id": "_uYzCckJjf7L"
      },
      "source": [
        "# Modelo para predição do Número de Pessoas Retidas por 30 Dias\n",
        "- O objetivo do modelo é prever o Número de Pessoas Retidas por 30 Dias com 15 dias de antecedência\n",
        "- Serão usados dois modelos com princípios diferentes, o intuito é usa-los em conjunto para aumentar a precisão\n",
        "- Os modelos usados serão: uma Rede Neural Linear e um Gradient Boost (Aumento de Gradiente)\n",
        "- Serão usadas para controle as métricas: Erro Médio Absoluto (MAE) e Erro Quadrático Médio (MSE) "
      ]
    },
    {
      "cell_type": "code",
      "metadata": {
        "id": "G9l4LIcDasBQ",
        "outputId": "4fda3ef5-3701-41f0-b4bc-ff49ed5bba75",
        "colab": {
          "base_uri": "https://localhost:8080/",
          "height": 156
        }
      },
      "source": [
        "import pandas as pd\n",
        "import numpy as np\n",
        "\n",
        "import torch\n",
        "import torch.nn as nn\n",
        "import torch.nn.functional as F\n",
        "import torch.optim as optim\n",
        "\n",
        "from xgboost import XGBRegressor\n",
        "\n",
        "from sklearn.metrics import mean_absolute_error, mean_squared_error\n",
        "\n",
        "!pip install scikit-optimize\n",
        "from skopt import gp_minimize, forest_minimize"
      ],
      "execution_count": null,
      "outputs": [
        {
          "output_type": "stream",
          "text": [
            "Requirement already satisfied: scikit-optimize in /usr/local/lib/python3.6/dist-packages (0.8.1)\n",
            "Requirement already satisfied: scikit-learn>=0.20.0 in /usr/local/lib/python3.6/dist-packages (from scikit-optimize) (0.22.2.post1)\n",
            "Requirement already satisfied: scipy>=0.19.1 in /usr/local/lib/python3.6/dist-packages (from scikit-optimize) (1.4.1)\n",
            "Requirement already satisfied: pyaml>=16.9 in /usr/local/lib/python3.6/dist-packages (from scikit-optimize) (20.4.0)\n",
            "Requirement already satisfied: joblib>=0.11 in /usr/local/lib/python3.6/dist-packages (from scikit-optimize) (0.17.0)\n",
            "Requirement already satisfied: numpy>=1.13.3 in /usr/local/lib/python3.6/dist-packages (from scikit-optimize) (1.18.5)\n",
            "Requirement already satisfied: PyYAML in /usr/local/lib/python3.6/dist-packages (from pyaml>=16.9->scikit-optimize) (3.13)\n"
          ],
          "name": "stdout"
        }
      ]
    },
    {
      "cell_type": "markdown",
      "metadata": {
        "id": "h2BfpPMiF2zu"
      },
      "source": [
        "  </br>"
      ]
    },
    {
      "cell_type": "markdown",
      "metadata": {
        "id": "TRjsASPclsiN"
      },
      "source": [
        "Análisando o objetivo do modelo, foi possível identificar alguns *Outliers*.</br>\n",
        "Focando especificamente neles, foi constatado que os mesmos representam 6% do objetivo.</br>\n",
        "Esses *Outliers* são casos positivos em que houve maior retenção que a média.\n",
        "</br>\n",
        "</br>"
      ]
    },
    {
      "cell_type": "code",
      "metadata": {
        "id": "sEWe1pE9az4m",
        "outputId": "718140a7-2e48-4c74-d398-3b3f2168ccd9",
        "colab": {
          "base_uri": "https://localhost:8080/",
          "height": 34
        }
      },
      "source": [
        "data = pd.read_csv('/content/retained_bank_organic.csv')\n",
        "data.shape"
      ],
      "execution_count": null,
      "outputs": [
        {
          "output_type": "execute_result",
          "data": {
            "text/plain": [
              "(92, 13)"
            ]
          },
          "metadata": {
            "tags": []
          },
          "execution_count": 2
        }
      ]
    },
    {
      "cell_type": "code",
      "metadata": {
        "id": "UfOeFjbx8ZjU",
        "outputId": "77a39c5a-fb73-4df3-fd3b-bcc8d15a1898",
        "colab": {
          "base_uri": "https://localhost:8080/",
          "height": 282
        }
      },
      "source": [
        "data['Installers retained for 30 days'].hist()"
      ],
      "execution_count": null,
      "outputs": [
        {
          "output_type": "execute_result",
          "data": {
            "text/plain": [
              "<matplotlib.axes._subplots.AxesSubplot at 0x7f4a7d628a58>"
            ]
          },
          "metadata": {
            "tags": []
          },
          "execution_count": 3
        },
        {
          "output_type": "display_data",
          "data": {
            "image/png": "[encoded data removed]",
            "text/plain": [
              "<Figure size 432x288 with 1 Axes>"
            ]
          },
          "metadata": {
            "tags": [],
            "needs_background": "light"
          }
        }
      ]
    },
    {
      "cell_type": "code",
      "metadata": {
        "id": "qDDWAko99QG-",
        "outputId": "6c6850cf-5266-4baa-e9fa-6e5aad241c3e",
        "colab": {
          "base_uri": "https://localhost:8080/",
          "height": 235
        }
      },
      "source": [
        "target = data[['Installers retained for 30 days']].sort_values('Installers retained for 30 days')\n",
        "outliers = target[target['Installers retained for 30 days'] > 420]\n",
        "outliers"
      ],
      "execution_count": null,
      "outputs": [
        {
          "output_type": "execute_result",
          "data": {
            "text/html": [
              "<div>\n",
              "<style scoped>\n",
              "    .dataframe tbody tr th:only-of-type {\n",
              "        vertical-align: middle;\n",
              "    }\n",
              "\n",
              "    .dataframe tbody tr th {\n",
              "        vertical-align: top;\n",
              "    }\n",
              "\n",
              "    .dataframe thead th {\n",
              "        text-align: right;\n",
              "    }\n",
              "</style>\n",
              "<table border=\"1\" class=\"dataframe\">\n",
              "  <thead>\n",
              "    <tr style=\"text-align: right;\">\n",
              "      <th></th>\n",
              "      <th>Installers retained for 30 days</th>\n",
              "    </tr>\n",
              "  </thead>\n",
              "  <tbody>\n",
              "    <tr>\n",
              "      <th>59</th>\n",
              "      <td>473</td>\n",
              "    </tr>\n",
              "    <tr>\n",
              "      <th>56</th>\n",
              "      <td>486</td>\n",
              "    </tr>\n",
              "    <tr>\n",
              "      <th>60</th>\n",
              "      <td>496</td>\n",
              "    </tr>\n",
              "    <tr>\n",
              "      <th>77</th>\n",
              "      <td>527</td>\n",
              "    </tr>\n",
              "    <tr>\n",
              "      <th>58</th>\n",
              "      <td>600</td>\n",
              "    </tr>\n",
              "    <tr>\n",
              "      <th>57</th>\n",
              "      <td>751</td>\n",
              "    </tr>\n",
              "  </tbody>\n",
              "</table>\n",
              "</div>"
            ],
            "text/plain": [
              "    Installers retained for 30 days\n",
              "59                              473\n",
              "56                              486\n",
              "60                              496\n",
              "77                              527\n",
              "58                              600\n",
              "57                              751"
            ]
          },
          "metadata": {
            "tags": []
          },
          "execution_count": 4
        }
      ]
    },
    {
      "cell_type": "code",
      "metadata": {
        "id": "lpMaNnGo_UPY",
        "outputId": "c5568aae-f702-4e58-eeb8-a24b03298662",
        "colab": {
          "base_uri": "https://localhost:8080/",
          "height": 51
        }
      },
      "source": [
        "outliers.count()"
      ],
      "execution_count": null,
      "outputs": [
        {
          "output_type": "execute_result",
          "data": {
            "text/plain": [
              "Installers retained for 30 days    6\n",
              "dtype: int64"
            ]
          },
          "metadata": {
            "tags": []
          },
          "execution_count": 5
        }
      ]
    },
    {
      "cell_type": "code",
      "metadata": {
        "id": "_IXtrphP-5w_",
        "outputId": "021ef41e-5ac6-4b15-e4de-2cfa158704f5",
        "colab": {
          "base_uri": "https://localhost:8080/",
          "height": 315
        }
      },
      "source": [
        "target[target['Installers retained for 30 days'] < 420].hist()"
      ],
      "execution_count": null,
      "outputs": [
        {
          "output_type": "execute_result",
          "data": {
            "text/plain": [
              "array([[<matplotlib.axes._subplots.AxesSubplot object at 0x7f4a7d082a90>]],\n",
              "      dtype=object)"
            ]
          },
          "metadata": {
            "tags": []
          },
          "execution_count": 6
        },
        {
          "output_type": "display_data",
          "data": {
            "image/png": "[encoded data removed]",
            "text/plain": [
              "<Figure size 432x288 with 1 Axes>"
            ]
          },
          "metadata": {
            "tags": [],
            "needs_background": "light"
          }
        }
      ]
    },
    {
      "cell_type": "markdown",
      "metadata": {
        "id": "n99_4RnGlrXs"
      },
      "source": [
        "## Linear Neural Network\n",
        "O primeiro modelo de Machine Learning</br> \n",
        "- A princípio serão usadas todas colunas que teriamos acesso no 15º dia após a instalação. </br>\n",
        "- Os dados de treino e validação foram transformados em tensores e ajustados para ter as dimensões necessárias."
      ]
    },
    {
      "cell_type": "code",
      "metadata": {
        "id": "C7ovbIPZghFh"
      },
      "source": [
        "X_cols = ['Store Listing Visitors', 'Installers',\n",
        "          'Visitor-to-Installer conversion rate', 'Installers retained for 1 day',\n",
        "          'Installer-to-1 day retention rate', 'Installers retained for 7 days',\n",
        "          'Installer-to-7 days retention rate', 'Installers retained for 15 days',\n",
        "          'Installer-to-15 days retention rate']\n",
        "\n",
        "X = data[X_cols]\n",
        "y = data['Installers retained for 30 days']"
      ],
      "execution_count": null,
      "outputs": []
    },
    {
      "cell_type": "code",
      "metadata": {
        "id": "vNKywMh7f-6D",
        "outputId": "4c6d7353-d261-4f7c-ab55-ed87d38dc02a",
        "colab": {
          "base_uri": "https://localhost:8080/",
          "height": 34
        }
      },
      "source": [
        "corte = 62\n",
        "Xtr, Xval  = np.array(X[:corte]), np.array(X[corte:])\n",
        "ytr, yval = np.array(y[:corte]), np.array(y[corte:])\n",
        "\n",
        "Xtr.shape, Xval.shape, ytr.shape, yval.shape"
      ],
      "execution_count": null,
      "outputs": [
        {
          "output_type": "execute_result",
          "data": {
            "text/plain": [
              "((62, 9), (30, 9), (62,), (30,))"
            ]
          },
          "metadata": {
            "tags": []
          },
          "execution_count": 8
        }
      ]
    },
    {
      "cell_type": "code",
      "metadata": {
        "id": "--ycnnSlgPlE"
      },
      "source": [
        "Xtr_t = torch.from_numpy(Xtr).float()\n",
        "ytr_t = torch.from_numpy(ytr).float().unsqueeze(dim=-1)\n",
        "Xval_t = torch.from_numpy(Xval).float()\n",
        "yval_t = torch.from_numpy(yval).float().unsqueeze(dim=-1)"
      ],
      "execution_count": null,
      "outputs": []
    },
    {
      "cell_type": "code",
      "metadata": {
        "id": "L0AjrPGn9Kab",
        "outputId": "8f8245d5-dbec-4ecb-e1dd-6e087daf1a42",
        "colab": {
          "base_uri": "https://localhost:8080/",
          "height": 85
        }
      },
      "source": [
        "Xtr_t.shape, ytr_t.shape, Xval_t.shape, yval_t.shape"
      ],
      "execution_count": null,
      "outputs": [
        {
          "output_type": "execute_result",
          "data": {
            "text/plain": [
              "(torch.Size([62, 9]),\n",
              " torch.Size([62, 1]),\n",
              " torch.Size([30, 9]),\n",
              " torch.Size([30, 1]))"
            ]
          },
          "metadata": {
            "tags": []
          },
          "execution_count": 10
        }
      ]
    },
    {
      "cell_type": "markdown",
      "metadata": {
        "id": "5Vf3wY_7GZrl"
      },
      "source": [
        " </br>"
      ]
    },
    {
      "cell_type": "markdown",
      "metadata": {
        "id": "LXP2AnTAuHL7"
      },
      "source": [
        "- A Rede Neural foi configurada para ter duas camadas ocultas.</br>\n",
        "- Uma das camadas da Rede Neural fará a normalização dos dados.\n",
        "- Serão ajustados a *quantidade de nós* em cada camada e a *taxa de aprendizado* para obter maior previsão."
      ]
    },
    {
      "cell_type": "code",
      "metadata": {
        "id": "K6ejjF8er4hl"
      },
      "source": [
        "class LNN(nn.Module):\n",
        "    def __init__(self, input_size, hidden1, hidden2):\n",
        "        super(LNN,self).__init__()\n",
        "        self.hidden1 = nn.Linear(input_size, hidden1)\n",
        "        self.hidden2 = nn.Linear(hidden1, hidden2)\n",
        "        self.out = nn.Linear(hidden2, 1)\n",
        "        \n",
        "    def forward(self, x):\n",
        "        x = F.normalize(x)\n",
        "        x = F.relu(self.hidden1(x))\n",
        "        x = F.relu(self.hidden2(x))\n",
        "        return self.out(x)"
      ],
      "execution_count": null,
      "outputs": []
    },
    {
      "cell_type": "code",
      "metadata": {
        "id": "E37Bo7Dyr41n"
      },
      "source": [
        "def tune_mlp(params):\n",
        "    torch.manual_seed(0)\n",
        "    hidden1, hidden2, learning_rate = params\n",
        "    mdl = LNN(Xtr_t.shape[1], hidden1, hidden2)\n",
        "    criterion = nn.MSELoss()\n",
        "    optimizer = optim.Adam(mdl.parameters(), lr=learning_rate)\n",
        "    \n",
        "    for epoch in range(100): \n",
        "        optimizer.zero_grad()\n",
        "\n",
        "        p = mdl(Xtr_t)\n",
        "        loss = criterion(p, ytr_t)\n",
        "        loss.backward()\n",
        "        optimizer.step()\n",
        "    \n",
        "    p = mdl(Xval_t).detach().numpy()\n",
        "    metric = mean_squared_error(yval_t.numpy(), p)\n",
        "        \n",
        "    print(params, metric)\n",
        "    print()\n",
        "    \n",
        "    return metric"
      ],
      "execution_count": null,
      "outputs": []
    },
    {
      "cell_type": "code",
      "metadata": {
        "id": "l6Ti0iAVf_Ee"
      },
      "source": [
        "space = [(200, 1000),\n",
        "         (200, 1000),\n",
        "         (1e-5, 1e-3, 'log-uniform')]"
      ],
      "execution_count": null,
      "outputs": []
    },
    {
      "cell_type": "code",
      "metadata": {
        "id": "Ir10AjvY7j2f"
      },
      "source": [
        "#res = gp_minimize(tune_mlp, space, random_state=0, verbose=1, n_calls=50, n_random_starts= 20)"
      ],
      "execution_count": null,
      "outputs": []
    },
    {
      "cell_type": "markdown",
      "metadata": {
        "id": "9msBoyfCGtDx"
      },
      "source": [
        " </br>"
      ]
    },
    {
      "cell_type": "markdown",
      "metadata": {
        "id": "EvCSHTYewtmW"
      },
      "source": [
        "Os testes foram feitos dividindo os dados em 3 momentos diferentes, para observar como o modelo se comportaria.</br> Após verificar a divisão mais estável, foram escolhidos os parâmetros que serão usados no modelo final.</br></br></br>\n",
        "\n",
        "62 dias para treino e 30 dias para validação</br>\n",
        "Parâmetros = [758, 401, 0.0010] - MAE = 77.66036</br>\n",
        "Parâmetros = [764, 705, 0.0008] - MSE = 8953.833</br></br>\n",
        "\n",
        "46 dias para treino e 46 dias para validação</br>\n",
        "Parâmetros = [702, 560, 0.0009] - MAE = 106.713326</br></br>\n",
        "\n",
        "77 dias para treino 15 dias para validação</br>\n",
        "Parâmetros = [711, 747, 0.0008] - MAE = 92.69824</br></br></br>\n",
        "\n",
        "Os parâmetros escolhidos foram = [750, 420, 0.0009]</br>\n",
        "Eles representam respectivamente: quantidade de nós da primeira camada oculta, quantidade de nós da segunda camada oculta e taxa de aprendizado</br></br>"
      ]
    },
    {
      "cell_type": "code",
      "metadata": {
        "id": "OgoZ9i4EyuNs",
        "outputId": "ab204737-4665-4d0e-9277-1b5c6f6897d1",
        "colab": {
          "base_uri": "https://localhost:8080/",
          "height": 51
        }
      },
      "source": [
        "torch.manual_seed(0)\n",
        "hidden1, hidden2, learning_rate = [750, 420, 0.0009]\n",
        "mdl = LNN(Xtr_t.shape[1], hidden1, hidden2)\n",
        "criterion = nn.MSELoss()\n",
        "optimizer = optim.Adam(mdl.parameters(), lr=learning_rate)\n",
        "\n",
        "for epoch in range(100): \n",
        "    optimizer.zero_grad()\n",
        "\n",
        "    p = mdl(Xtr_t)\n",
        "    loss = criterion(p, ytr_t)\n",
        "    loss.backward()\n",
        "    optimizer.step()\n",
        "\n",
        "p = mdl(Xval_t).detach().numpy()\n",
        "MAE = mean_absolute_error(yval_t.numpy(), p)\n",
        "MSE = mean_squared_error(yval_t.numpy(), p)\n",
        "print('MAE = %s' % MAE)\n",
        "print('MSE = %s' % MSE)"
      ],
      "execution_count": null,
      "outputs": [
        {
          "output_type": "stream",
          "text": [
            "MAE = 79.7458\n",
            "MSE = 9180.007\n"
          ],
          "name": "stdout"
        }
      ]
    },
    {
      "cell_type": "markdown",
      "metadata": {
        "id": "xLPvDa9MzQ_V"
      },
      "source": [
        "### Feature Selection"
      ]
    },
    {
      "cell_type": "markdown",
      "metadata": {
        "id": "4ozgy7g-2YXJ"
      },
      "source": [
        "- Após ter ajustado os parâmetros, foi testado se realmennte todas as colunas usadas eram necessárias e benéficas para o modelo.\n",
        "- Os testes mostraram que somente as colunas *Pessoas Retidas por 7/15 Dias* e *Quantia de Visitantes da Loja* eram benéficas. "
      ]
    },
    {
      "cell_type": "code",
      "metadata": {
        "id": "x6yKA1siDDqr"
      },
      "source": [
        "selected = []"
      ],
      "execution_count": null,
      "outputs": []
    },
    {
      "cell_type": "code",
      "metadata": {
        "id": "RX0R8ar6zQ_W",
        "outputId": "1b4af1c5-ab3d-48fd-bff1-24ab0167fec3",
        "colab": {
          "base_uri": "https://localhost:8080/",
          "height": 34
        }
      },
      "source": [
        "#best_score = best_score - 1e-4 \n",
        "best_score = 100\n",
        "for col in X_cols:\n",
        "    if col not in selected:\n",
        "        #print(col)\n",
        "        X = data[selected+[col]].copy()\n",
        "        Xtr, Xval  = np.array(X[:corte]), np.array(X[corte:])\n",
        "\n",
        "        Xtr_t = torch.from_numpy(Xtr).float()\n",
        "        Xval_t = torch.from_numpy(Xval).float()\n",
        "    \n",
        "        torch.manual_seed(0)\n",
        "        hidden1, hidden2, learning_rate = [750, 420, 0.0009]\n",
        "        mdl = LNN(Xtr_t.shape[1], hidden1, hidden2)\n",
        "        criterion = nn.MSELoss()\n",
        "        optimizer = optim.Adam(mdl.parameters(), lr=learning_rate)\n",
        "        \n",
        "        for epoch in range(100): \n",
        "            optimizer.zero_grad()\n",
        "\n",
        "            p = mdl(Xtr_t)\n",
        "            loss = criterion(p, ytr_t)\n",
        "            loss.backward()\n",
        "            optimizer.step()\n",
        "        \n",
        "        p = mdl(Xval_t).detach().numpy()\n",
        "        c = mean_absolute_error(yval_t.numpy(), p)\n",
        "        #print(c)\n",
        "        if c < best_score:\n",
        "            print(col, c)\n",
        "            best_score = c"
      ],
      "execution_count": null,
      "outputs": [
        {
          "output_type": "stream",
          "text": [
            "Store Listing Visitors 80.703735\n"
          ],
          "name": "stdout"
        }
      ]
    },
    {
      "cell_type": "code",
      "metadata": {
        "id": "Kvhrwd-A3GUM"
      },
      "source": [
        "selected = ['Store Listing Visitors', \"Installers retained for 15 days\", 'Installers retained for 7 days']"
      ],
      "execution_count": null,
      "outputs": []
    },
    {
      "cell_type": "markdown",
      "metadata": {
        "id": "gP3-trHOBaqk"
      },
      "source": [
        "### Modelo Final\n",
        "\n",
        "Dando pouco peso para os *Outliers*, o modelo conseguiu prever a Quantidade de Pessoas Retidas por 30 dias com um erro médio de 9 pessoas.</br>\n",
        "Agora, dando ênfase para os *Outliers*, o erro médio foi de 95 pessoas.</br>"
      ]
    },
    {
      "cell_type": "code",
      "metadata": {
        "id": "6VcVwP263xmw",
        "outputId": "e4bdbfd7-234c-419a-8ce6-d0152d728529",
        "colab": {
          "base_uri": "https://localhost:8080/",
          "height": 51
        }
      },
      "source": [
        "X = data[selected].copy()\n",
        "\n",
        "Xtr, Xval  = np.array(X[:corte]), np.array(X[corte:])\n",
        "\n",
        "Xtr_t = torch.from_numpy(Xtr).float()\n",
        "Xval_t = torch.from_numpy(Xval).float()\n",
        "\n",
        "torch.manual_seed(0)\n",
        "hidden1, hidden2, learning_rate = [750, 420, 0.0009]\n",
        "mdl = LNN(Xtr_t.shape[1], hidden1, hidden2)\n",
        "criterion = nn.MSELoss()\n",
        "optimizer = optim.Adam(mdl.parameters(), lr=learning_rate)\n",
        "\n",
        "for epoch in range(100): \n",
        "    optimizer.zero_grad()\n",
        "\n",
        "    p = mdl(Xtr_t)\n",
        "    loss = criterion(p, ytr_t)\n",
        "    loss.backward()\n",
        "    optimizer.step()\n",
        "\n",
        "p_LNN = mdl(Xval_t).detach().numpy()\n",
        "MAE = mean_absolute_error(yval_t.numpy(), p_LNN)\n",
        "MSE = mean_squared_error(yval_t.numpy(), p_LNN)\n",
        "print('MAE = %s' % MAE)\n",
        "print('MSE = %s' % MSE)"
      ],
      "execution_count": null,
      "outputs": [
        {
          "output_type": "stream",
          "text": [
            "MAE = 78.348305\n",
            "MSE = 8926.26\n"
          ],
          "name": "stdout"
        }
      ]
    },
    {
      "cell_type": "markdown",
      "metadata": {
        "id": "w9OSfOBJm_ma"
      },
      "source": [
        "## Grandient Boost - XGBoost </br>\n",
        "O segundo Modelo de Machine Learning\n",
        "- Os dados foram novamente separados em treino e validação e não são necessárias novas transformações"
      ]
    },
    {
      "cell_type": "code",
      "metadata": {
        "id": "LB0hlQ5M8jQT"
      },
      "source": [
        "X = data[X_cols]\n",
        "y = data['Installers retained for 30 days']"
      ],
      "execution_count": null,
      "outputs": []
    },
    {
      "cell_type": "code",
      "metadata": {
        "id": "qmcv_1YuobIK",
        "outputId": "03b42e05-c856-44ff-850d-6287b15cc463",
        "colab": {
          "base_uri": "https://localhost:8080/",
          "height": 34
        }
      },
      "source": [
        "corte = 62\n",
        "Xtr, Xval  = X[:corte], X[corte:]\n",
        "ytr, yval = y[:corte], y[corte:]\n",
        "\n",
        "Xtr.shape, Xval.shape, ytr.shape, yval.shape"
      ],
      "execution_count": null,
      "outputs": [
        {
          "output_type": "execute_result",
          "data": {
            "text/plain": [
              "((62, 9), (30, 9), (62,), (30,))"
            ]
          },
          "metadata": {
            "tags": []
          },
          "execution_count": 21
        }
      ]
    },
    {
      "cell_type": "code",
      "metadata": {
        "id": "mtP92gyvw1rs"
      },
      "source": [
        "rds = 4\n",
        "def tune_XGBR(params):\n",
        "    learning_rate, n_estimators, subsample, colsample_bytree= params\n",
        "\n",
        "    mdl = XGBRegressor(learning_rate= learning_rate, n_estimators= n_estimators,\n",
        "                       subsample= subsample, colsample_bytree= colsample_bytree,\n",
        "                       random_state= rds, n_jobs=-1, objective='reg:squarederror')\n",
        "    \n",
        "    mdl.fit(Xtr, ytr)\n",
        "\n",
        "    p = mdl.predict(Xval)\n",
        "    metric = mean_absolute_error(yval, p)\n",
        "    #metric = mean_squared_error(yval, p)\n",
        "\n",
        "    print(params, metric)\n",
        "    print()\n",
        "    \n",
        "    return metric"
      ],
      "execution_count": null,
      "outputs": []
    },
    {
      "cell_type": "code",
      "metadata": {
        "id": "qqT3Yktvynct"
      },
      "source": [
        "space = [(1e-3, 1e-1, 'log-uniform'), # learning_rate\n",
        "         (500, 2000),  # n_estimators\n",
        "         (0.4, 1), # subsample\n",
        "         (0.6, 1)] # colsample_bytree"
      ],
      "execution_count": null,
      "outputs": []
    },
    {
      "cell_type": "code",
      "metadata": {
        "id": "0mP9mjU62E9f"
      },
      "source": [
        "#res = forest_minimize(tune_XGBR, space, random_state=0, n_random_starts=20, n_calls=50, verbose=1)"
      ],
      "execution_count": null,
      "outputs": []
    },
    {
      "cell_type": "markdown",
      "metadata": {
        "id": "HJUYp_SaG3W3"
      },
      "source": [
        " </br>"
      ]
    },
    {
      "cell_type": "markdown",
      "metadata": {
        "id": "Su245A6u5Sre"
      },
      "source": [
        "Os testes seguiram os mesmos padrões usados na Rede Neural Linear.</br>\n",
        "\n",
        "62 dias para treino e 30 dias para validação</br>\n",
        "Parâmetros = [0.022, 1060, 0.48, 0.67] - MAE = 25.5788*</br>\n",
        "Parâmetros = [0.005,  605, 0.54, 0.97] - MSE = 1096.4200</br></br>\n",
        "\n",
        "46 dias para treino e 46 dias para validação</br>\n",
        "Parâmetros = [0.016, 1256, 0.63, 0.96] - MAE = 33.1658</br>\n",
        "Parâmetros = [0.022, 1060, 0.48, 0.67] - MSE = 4717.5519</br></br>\n",
        "\n",
        "77 dias para treino 15 dias para validação</br>\n",
        "Parâmetros = [0.022, 1316, 0.98, 0.78] - MAE = 15.6785</br>\n",
        "Parâmetros = [0.075,  703, 0.96, 0.63] - MSE = 371.2921</br></br></br>\n",
        "\n",
        "Os parâmetros escolhidos foram = [0.02, 1200, 0.55, 0.7]</br>\n",
        "Eles representam respectivamente: taxa de aprendizado, número de arvores, percentual de linhas usadas por iteração e percentual de colunas usadas por iteração. </br></br>\n",
        "\n",
        "Mesmo que a menor métrica tenha sido obtida dividindo o os dados em 77/15 dias, os parâmetros escolhidos foram baseados no resultado obtido com 62/30 dias. </br>\n",
        "O motivo dessa escolha é evitar o *Overfitting* e obter um modelo prático para ser usado no dia-a-dia. </br>\n"
      ]
    },
    {
      "cell_type": "markdown",
      "metadata": {
        "id": "BmXAtU2Y4Qzk"
      },
      "source": [
        "### Seeds Test"
      ]
    },
    {
      "cell_type": "markdown",
      "metadata": {
        "id": "_8mchpdz9XDu"
      },
      "source": [
        "- Para testar se os parâmetros escolhidos resultavam em uma previsão robusta, o modelo foi testado com 20 padrões diferentes\n",
        "- O resultado foi um erro médio variando entre 4 e 5 pessoas com pouca enfase aos *Outliers* e 23 a 30 pessoas com maior enfase aos *Outliers*"
      ]
    },
    {
      "cell_type": "code",
      "metadata": {
        "id": "1udxxXj-ALqn",
        "outputId": "92bf54c6-50eb-4a0a-d13b-05c8582676c2",
        "colab": {
          "base_uri": "https://localhost:8080/",
          "height": 102
        }
      },
      "source": [
        "dist_mae = []\n",
        "dist_mse = []\n",
        "for rds in range(20):\n",
        "\n",
        "    learning_rate, n_estimators, subsample, colsample_bytree= [0.02, 1200, 0.55, 0.7]\n",
        "\n",
        "    mdl = XGBRegressor(learning_rate= learning_rate, n_estimators= n_estimators,\n",
        "                        subsample= subsample, colsample_bytree= colsample_bytree,\n",
        "                        random_state= rds, n_jobs=-1, objective='reg:squarederror')\n",
        "\n",
        "    mdl.fit(Xtr, ytr)\n",
        "\n",
        "    p = mdl.predict(Xval)\n",
        "    MAE = mean_absolute_error(yval, p)\n",
        "    MSE = mean_squared_error(yval, p)\n",
        "    dist_mae.append(MAE)\n",
        "    dist_mse.append(MSE)\n",
        "dist_mae = np.array(dist_mae)\n",
        "dist_mse = np.array(dist_mse)\n",
        "\n",
        "print('MAE')\n",
        "print('Min = {} Max = {}' .format(dist_mae.min(),dist_mae.max() ))\n",
        "print()\n",
        "print('MSE')\n",
        "print('Min = {} Max = {}' .format(dist_mse.min(),dist_mse.max() ))"
      ],
      "execution_count": null,
      "outputs": [
        {
          "output_type": "stream",
          "text": [
            "MAE\n",
            "Min = 14.259696451822917 Max = 18.574957275390624\n",
            "\n",
            "MSE\n",
            "Min = 496.11709671863355 Max = 870.56153077976\n"
          ],
          "name": "stdout"
        }
      ]
    },
    {
      "cell_type": "markdown",
      "metadata": {
        "id": "xiwt0EfCE2VZ"
      },
      "source": [
        "### Modelo Final\n",
        "Dando pouco peso para os *Outliers*, o modelo conseguiu prever a Quantidade de Pessoas Retidas por 30 dias com um erro médio de 5 pessoas.</br>\n",
        "Agora, dando ênfase para os *Outliers*, o erro médio foi de 28 pessoas.</br>"
      ]
    },
    {
      "cell_type": "code",
      "metadata": {
        "id": "JLwT8vfnAgjw",
        "outputId": "ecd5a491-b5d7-4fda-e29c-24ebbeafd1f3",
        "colab": {
          "base_uri": "https://localhost:8080/",
          "height": 51
        }
      },
      "source": [
        "rds = 0\n",
        "\n",
        "learning_rate, n_estimators, subsample, colsample_bytree= [0.02, 1200, 0.55, 0.7]\n",
        "\n",
        "mdl = XGBRegressor(learning_rate= learning_rate, n_estimators= n_estimators,\n",
        "                    subsample= subsample, colsample_bytree= colsample_bytree,\n",
        "                    random_state= rds, n_jobs=-1, objective='reg:squarederror')\n",
        "\n",
        "mdl.fit(Xtr, ytr)\n",
        "\n",
        "p_XGB = mdl.predict(Xval)\n",
        "MAE = mean_absolute_error(yval, p_XGB)\n",
        "MSE = mean_squared_error(yval, p_XGB)\n",
        "\n",
        "print('MAE = %s' % MAE)\n",
        "print('MSE = %s' % MSE)"
      ],
      "execution_count": null,
      "outputs": [
        {
          "output_type": "stream",
          "text": [
            "MAE = 17.619810994466146\n",
            "MSE = 746.6940543817822\n"
          ],
          "name": "stdout"
        }
      ]
    },
    {
      "cell_type": "markdown",
      "metadata": {
        "id": "Ay4e9t-IFbnH"
      },
      "source": [
        "## Ensemble\n",
        "\n",
        "- Testando os modelos em conjunto, a melhor proporção encontrada foi de 90% Gradient Boost e 10% Rede Neural Linear</br>\n",
        "- O resultado foi um erro médio de 4 pessoas com pouca enfase aos *Outliers* e 23 pessoas com maior enfase aos *Outliers*</br>"
      ]
    },
    {
      "cell_type": "code",
      "metadata": {
        "id": "O8PiY_IRFa7S",
        "outputId": "96b3ac62-c4d1-4e8a-d134-e501ef34cc73",
        "colab": {
          "base_uri": "https://localhost:8080/",
          "height": 765
        }
      },
      "source": [
        "p_LNN= np.squeeze(p_LNN)\n",
        "for seed in range(11):\n",
        "    d = seed/10\n",
        "    p = (0+d)*p_XGB + (1-d)*p_LNN\n",
        "    MAE = mean_absolute_error(yval, p)\n",
        "    MSE = mean_squared_error(yval, p)\n",
        "\n",
        "    print('{}% XGB - {}% LNN' .format(round(((0+d)*100),0),round(((1-d)*100),0)))\n",
        "    print('MAE = %s' % round(MAE,2))\n",
        "    print('MSE = %s' % round(MSE,2))\n",
        "    print()"
      ],
      "execution_count": null,
      "outputs": [
        {
          "output_type": "stream",
          "text": [
            "0.0% XGB - 100.0% LNN\n",
            "MAE = 78.35\n",
            "MSE = 8926.26\n",
            "\n",
            "10.0% XGB - 90.0% LNN\n",
            "MAE = 69.53\n",
            "MSE = 7037.68\n",
            "\n",
            "20.0% XGB - 80.0% LNN\n",
            "MAE = 61.18\n",
            "MSE = 5387.02\n",
            "\n",
            "30.0% XGB - 70.0% LNN\n",
            "MAE = 52.83\n",
            "MSE = 3974.27\n",
            "\n",
            "40.0% XGB - 60.0% LNN\n",
            "MAE = 44.49\n",
            "MSE = 2799.44\n",
            "\n",
            "50.0% XGB - 50.0% LNN\n",
            "MAE = 36.15\n",
            "MSE = 1862.53\n",
            "\n",
            "60.0% XGB - 40.0% LNN\n",
            "MAE = 27.87\n",
            "MSE = 1163.53\n",
            "\n",
            "70.0% XGB - 30.0% LNN\n",
            "MAE = 21.17\n",
            "MSE = 702.45\n",
            "\n",
            "80.0% XGB - 20.0% LNN\n",
            "MAE = 17.46\n",
            "MSE = 479.28\n",
            "\n",
            "90.0% XGB - 10.0% LNN\n",
            "MAE = 16.47\n",
            "MSE = 494.03\n",
            "\n",
            "100.0% XGB - 0.0% LNN\n",
            "MAE = 17.62\n",
            "MSE = 746.69\n",
            "\n"
          ],
          "name": "stdout"
        }
      ]
    },
    {
      "cell_type": "markdown",
      "metadata": {
        "id": "TtyKFBkvBm1n"
      },
      "source": [
        "## Próximos Passos Possíveis\n",
        "- Adicionar mais camadas à LNN\n",
        "- Treinar modelos diferentes como um Ensemble de Arvores ou uma Regressão Linear\n",
        "- Testar outras Redes Neurais\n",
        "- Testar o modelo no dia-a-dia e com mais dados"
      ]
    }
  ]
}